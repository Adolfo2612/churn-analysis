{
 "cells": [
  {
   "cell_type": "markdown",
   "id": "bf0ed19c-9982-4f1d-b611-04d373fa6397",
   "metadata": {},
   "source": [
    "## Importación de librerías\n",
    "\n",
    "En esta sección se importan las librerías necesarias para el análisis de datos, visualización y creación de modelos predictivos.\n",
    "\n",
    "- `pandas` para la manipulación del conjunto de datos.\n",
    "- `matplotlib.pyplot` y `seaborn` para la visualización de datos.\n",
    "- `sklearn` y otras librerías específicas para el desarrollo de modelos de machine learning.\n",
    "\n",
    "Se explicará el uso de cada una conforme avance el proyecto.\n"
   ]
  },
  {
   "cell_type": "code",
   "execution_count": 76,
   "id": "1ebad9ba-170a-45c2-97d1-75e86c5fbc70",
   "metadata": {},
   "outputs": [],
   "source": [
    "import pandas as pd\n",
    "import numpy as np\n",
    "import matplotlib.pyplot as plt\n",
    "import seaborn as sns\n",
    "\n",
    "from sklearn.model_selection import train_test_split\n",
    "from sklearn.preprocessing import LabelEncoder, StandardScaler\n",
    "from sklearn.linear_model import LogisticRegression\n",
    "from sklearn.ensemble import RandomForestClassifier\n",
    "\n",
    "from sklearn.metrics import accuracy_score, classification_report, confusion_matrix\n",
    "from imblearn.over_sampling import SMOTE"
   ]
  },
  {
   "cell_type": "markdown",
   "id": "e3c6c6db-3281-4bc4-af38-a0cff2bd50b8",
   "metadata": {},
   "source": [
    "##  Carga del conjunto de datos\n",
    "\n",
    "Se utiliza la función `pd.read_csv()` de la librería `pandas` para importar el conjunto de datos y almacenarlo en una variable. Esta función permite leer archivos en formato CSV y convertirlos en un DataFrame, lo que facilita su manipulación y análisis.\n",
    "\n",
    "A continuación, se carga el archivo.\n"
   ]
  },
  {
   "cell_type": "code",
   "execution_count": 77,
   "id": "e3e70838-2cb7-4991-b106-1e766d16d7b6",
   "metadata": {},
   "outputs": [],
   "source": [
    "df=pd.read_csv(\"D:/Ciencia de Datas/portafolio/data/WA_Fn-UseC_-Telco-Customer-Churn.csv\")"
   ]
  },
  {
   "cell_type": "markdown",
   "id": "bbdd7215-3b45-43c8-893f-4c51dd8e8498",
   "metadata": {},
   "source": [
    "###  Exploración básica de los datos\n",
    "\n",
    "Una vez cargados los datos en la variable `df`, comenzamos visualizando las primeras cinco filas con la función `head()`. Esto nos brinda una visión rápida de la estructura y el contenido del conjunto de datos.\n",
    "\n",
    "En esta muestra inicial, podemos observar variables numéricas como \"MonthlyCharges\" y \"TotalCharges\", mientras que otras columnas contienen valores booleanos o categóricos expresados como `True/False` o `Yes/No`.\n",
    "\n"
   ]
  },
  {
   "cell_type": "code",
   "execution_count": 78,
   "id": "fc7d2ef1-f187-4b6e-adac-844d88e84635",
   "metadata": {},
   "outputs": [
    {
     "data": {
      "text/html": [
       "<div>\n",
       "<style scoped>\n",
       "    .dataframe tbody tr th:only-of-type {\n",
       "        vertical-align: middle;\n",
       "    }\n",
       "\n",
       "    .dataframe tbody tr th {\n",
       "        vertical-align: top;\n",
       "    }\n",
       "\n",
       "    .dataframe thead th {\n",
       "        text-align: right;\n",
       "    }\n",
       "</style>\n",
       "<table border=\"1\" class=\"dataframe\">\n",
       "  <thead>\n",
       "    <tr style=\"text-align: right;\">\n",
       "      <th></th>\n",
       "      <th>customerID</th>\n",
       "      <th>gender</th>\n",
       "      <th>SeniorCitizen</th>\n",
       "      <th>Partner</th>\n",
       "      <th>Dependents</th>\n",
       "      <th>tenure</th>\n",
       "      <th>PhoneService</th>\n",
       "      <th>MultipleLines</th>\n",
       "      <th>InternetService</th>\n",
       "      <th>OnlineSecurity</th>\n",
       "      <th>...</th>\n",
       "      <th>DeviceProtection</th>\n",
       "      <th>TechSupport</th>\n",
       "      <th>StreamingTV</th>\n",
       "      <th>StreamingMovies</th>\n",
       "      <th>Contract</th>\n",
       "      <th>PaperlessBilling</th>\n",
       "      <th>PaymentMethod</th>\n",
       "      <th>MonthlyCharges</th>\n",
       "      <th>TotalCharges</th>\n",
       "      <th>Churn</th>\n",
       "    </tr>\n",
       "  </thead>\n",
       "  <tbody>\n",
       "    <tr>\n",
       "      <th>0</th>\n",
       "      <td>7590-VHVEG</td>\n",
       "      <td>Female</td>\n",
       "      <td>0</td>\n",
       "      <td>Yes</td>\n",
       "      <td>No</td>\n",
       "      <td>1</td>\n",
       "      <td>No</td>\n",
       "      <td>No phone service</td>\n",
       "      <td>DSL</td>\n",
       "      <td>No</td>\n",
       "      <td>...</td>\n",
       "      <td>No</td>\n",
       "      <td>No</td>\n",
       "      <td>No</td>\n",
       "      <td>No</td>\n",
       "      <td>Month-to-month</td>\n",
       "      <td>Yes</td>\n",
       "      <td>Electronic check</td>\n",
       "      <td>29.85</td>\n",
       "      <td>29.85</td>\n",
       "      <td>No</td>\n",
       "    </tr>\n",
       "    <tr>\n",
       "      <th>1</th>\n",
       "      <td>5575-GNVDE</td>\n",
       "      <td>Male</td>\n",
       "      <td>0</td>\n",
       "      <td>No</td>\n",
       "      <td>No</td>\n",
       "      <td>34</td>\n",
       "      <td>Yes</td>\n",
       "      <td>No</td>\n",
       "      <td>DSL</td>\n",
       "      <td>Yes</td>\n",
       "      <td>...</td>\n",
       "      <td>Yes</td>\n",
       "      <td>No</td>\n",
       "      <td>No</td>\n",
       "      <td>No</td>\n",
       "      <td>One year</td>\n",
       "      <td>No</td>\n",
       "      <td>Mailed check</td>\n",
       "      <td>56.95</td>\n",
       "      <td>1889.5</td>\n",
       "      <td>No</td>\n",
       "    </tr>\n",
       "    <tr>\n",
       "      <th>2</th>\n",
       "      <td>3668-QPYBK</td>\n",
       "      <td>Male</td>\n",
       "      <td>0</td>\n",
       "      <td>No</td>\n",
       "      <td>No</td>\n",
       "      <td>2</td>\n",
       "      <td>Yes</td>\n",
       "      <td>No</td>\n",
       "      <td>DSL</td>\n",
       "      <td>Yes</td>\n",
       "      <td>...</td>\n",
       "      <td>No</td>\n",
       "      <td>No</td>\n",
       "      <td>No</td>\n",
       "      <td>No</td>\n",
       "      <td>Month-to-month</td>\n",
       "      <td>Yes</td>\n",
       "      <td>Mailed check</td>\n",
       "      <td>53.85</td>\n",
       "      <td>108.15</td>\n",
       "      <td>Yes</td>\n",
       "    </tr>\n",
       "    <tr>\n",
       "      <th>3</th>\n",
       "      <td>7795-CFOCW</td>\n",
       "      <td>Male</td>\n",
       "      <td>0</td>\n",
       "      <td>No</td>\n",
       "      <td>No</td>\n",
       "      <td>45</td>\n",
       "      <td>No</td>\n",
       "      <td>No phone service</td>\n",
       "      <td>DSL</td>\n",
       "      <td>Yes</td>\n",
       "      <td>...</td>\n",
       "      <td>Yes</td>\n",
       "      <td>Yes</td>\n",
       "      <td>No</td>\n",
       "      <td>No</td>\n",
       "      <td>One year</td>\n",
       "      <td>No</td>\n",
       "      <td>Bank transfer (automatic)</td>\n",
       "      <td>42.30</td>\n",
       "      <td>1840.75</td>\n",
       "      <td>No</td>\n",
       "    </tr>\n",
       "    <tr>\n",
       "      <th>4</th>\n",
       "      <td>9237-HQITU</td>\n",
       "      <td>Female</td>\n",
       "      <td>0</td>\n",
       "      <td>No</td>\n",
       "      <td>No</td>\n",
       "      <td>2</td>\n",
       "      <td>Yes</td>\n",
       "      <td>No</td>\n",
       "      <td>Fiber optic</td>\n",
       "      <td>No</td>\n",
       "      <td>...</td>\n",
       "      <td>No</td>\n",
       "      <td>No</td>\n",
       "      <td>No</td>\n",
       "      <td>No</td>\n",
       "      <td>Month-to-month</td>\n",
       "      <td>Yes</td>\n",
       "      <td>Electronic check</td>\n",
       "      <td>70.70</td>\n",
       "      <td>151.65</td>\n",
       "      <td>Yes</td>\n",
       "    </tr>\n",
       "  </tbody>\n",
       "</table>\n",
       "<p>5 rows × 21 columns</p>\n",
       "</div>"
      ],
      "text/plain": [
       "   customerID  gender  SeniorCitizen Partner Dependents  tenure PhoneService  \\\n",
       "0  7590-VHVEG  Female              0     Yes         No       1           No   \n",
       "1  5575-GNVDE    Male              0      No         No      34          Yes   \n",
       "2  3668-QPYBK    Male              0      No         No       2          Yes   \n",
       "3  7795-CFOCW    Male              0      No         No      45           No   \n",
       "4  9237-HQITU  Female              0      No         No       2          Yes   \n",
       "\n",
       "      MultipleLines InternetService OnlineSecurity  ... DeviceProtection  \\\n",
       "0  No phone service             DSL             No  ...               No   \n",
       "1                No             DSL            Yes  ...              Yes   \n",
       "2                No             DSL            Yes  ...               No   \n",
       "3  No phone service             DSL            Yes  ...              Yes   \n",
       "4                No     Fiber optic             No  ...               No   \n",
       "\n",
       "  TechSupport StreamingTV StreamingMovies        Contract PaperlessBilling  \\\n",
       "0          No          No              No  Month-to-month              Yes   \n",
       "1          No          No              No        One year               No   \n",
       "2          No          No              No  Month-to-month              Yes   \n",
       "3         Yes          No              No        One year               No   \n",
       "4          No          No              No  Month-to-month              Yes   \n",
       "\n",
       "               PaymentMethod MonthlyCharges  TotalCharges Churn  \n",
       "0           Electronic check          29.85         29.85    No  \n",
       "1               Mailed check          56.95        1889.5    No  \n",
       "2               Mailed check          53.85        108.15   Yes  \n",
       "3  Bank transfer (automatic)          42.30       1840.75    No  \n",
       "4           Electronic check          70.70        151.65   Yes  \n",
       "\n",
       "[5 rows x 21 columns]"
      ]
     },
     "execution_count": 78,
     "metadata": {},
     "output_type": "execute_result"
    }
   ],
   "source": [
    "df.head()\n"
   ]
  },
  {
   "cell_type": "markdown",
   "id": "9513a581-8a41-41c4-b78e-a4b86c35391c",
   "metadata": {},
   "source": [
    "La función `df.info()` nos proporciona un resumen importante sobre la estructura del conjunto de datos:\n",
    "\n",
    "- El dataset contiene 7,043 registros y 21 columnas.\n",
    "- La mayoría de las columnas (18 de 21) son de tipo objeto (`object`), lo que indica que contienen datos categóricos o texto.\n",
    "- Hay 2 columnas con datos enteros (`int64`): `SeniorCitizen` y `tenure`.\n",
    "- Solo una columna es de tipo numérico decimal (`float64`): `MonthlyCharges`.\n",
    "- La columna `TotalCharges` aparece como tipo `object` aunque debería ser numérica, lo que sugiere que puede contener valores no numéricos o espacios en blanco que se deben limpiar.\n",
    "- No hay valores nulos en ninguna columna, lo que significa que el dataset está completo, aunque habrá que verificar la calidad y consistencia de los datos en columnas como `TotalCharges`.\n",
    "\n",
    "Esta información inicial es clave para planificar la limpieza y el preprocesamiento de los datos.\n"
   ]
  },
  {
   "cell_type": "code",
   "execution_count": 79,
   "id": "1eb3b32e-1b6d-4e53-97c6-c9bf3a288f29",
   "metadata": {},
   "outputs": [
    {
     "name": "stdout",
     "output_type": "stream",
     "text": [
      "<class 'pandas.core.frame.DataFrame'>\n",
      "RangeIndex: 7043 entries, 0 to 7042\n",
      "Data columns (total 21 columns):\n",
      " #   Column            Non-Null Count  Dtype  \n",
      "---  ------            --------------  -----  \n",
      " 0   customerID        7043 non-null   object \n",
      " 1   gender            7043 non-null   object \n",
      " 2   SeniorCitizen     7043 non-null   int64  \n",
      " 3   Partner           7043 non-null   object \n",
      " 4   Dependents        7043 non-null   object \n",
      " 5   tenure            7043 non-null   int64  \n",
      " 6   PhoneService      7043 non-null   object \n",
      " 7   MultipleLines     7043 non-null   object \n",
      " 8   InternetService   7043 non-null   object \n",
      " 9   OnlineSecurity    7043 non-null   object \n",
      " 10  OnlineBackup      7043 non-null   object \n",
      " 11  DeviceProtection  7043 non-null   object \n",
      " 12  TechSupport       7043 non-null   object \n",
      " 13  StreamingTV       7043 non-null   object \n",
      " 14  StreamingMovies   7043 non-null   object \n",
      " 15  Contract          7043 non-null   object \n",
      " 16  PaperlessBilling  7043 non-null   object \n",
      " 17  PaymentMethod     7043 non-null   object \n",
      " 18  MonthlyCharges    7043 non-null   float64\n",
      " 19  TotalCharges      7043 non-null   object \n",
      " 20  Churn             7043 non-null   object \n",
      "dtypes: float64(1), int64(2), object(18)\n",
      "memory usage: 1.1+ MB\n"
     ]
    }
   ],
   "source": [
    "df.info()"
   ]
  },
  {
   "cell_type": "markdown",
   "id": "f87af6b5-9908-4d9d-865b-8e5e40bda87d",
   "metadata": {},
   "source": [
    "## Transformar datos mejorar este texto.\n",
    "Se convierten las variables booleanas con valores como \"yes\" y \"no\", así como aquellas columnas que contienen la cadena \"No phone service\", asignando un valor de 0 para representar la ausencia del servicio."
   ]
  },
  {
   "cell_type": "code",
   "execution_count": 81,
   "id": "1764dd07-d477-4510-9f23-318c9764acd9",
   "metadata": {},
   "outputs": [],
   "source": [
    "df = df.replace({'Yes': 1, 'No': 0, 'No phone service': 0})\n",
    "df = df.infer_objects(copy=False)\n"
   ]
  },
  {
   "cell_type": "code",
   "execution_count": 83,
   "id": "65e167fa-73ca-4004-aee9-f784f20e2591",
   "metadata": {},
   "outputs": [],
   "source": [
    "df = df.replace({\"Male\": 1, \"Female\": 0})\n",
    "df = df.infer_objects(copy=False)"
   ]
  },
  {
   "cell_type": "code",
   "execution_count": 84,
   "id": "af89e5fc-8692-4137-992c-ded4dcdb3c3f",
   "metadata": {},
   "outputs": [
    {
     "name": "stdout",
     "output_type": "stream",
     "text": [
      "<class 'pandas.core.frame.DataFrame'>\n",
      "RangeIndex: 7043 entries, 0 to 7042\n",
      "Data columns (total 21 columns):\n",
      " #   Column            Non-Null Count  Dtype  \n",
      "---  ------            --------------  -----  \n",
      " 0   customerID        7043 non-null   object \n",
      " 1   gender            7043 non-null   int64  \n",
      " 2   SeniorCitizen     7043 non-null   int64  \n",
      " 3   Partner           7043 non-null   int64  \n",
      " 4   Dependents        7043 non-null   int64  \n",
      " 5   tenure            7043 non-null   int64  \n",
      " 6   PhoneService      7043 non-null   int64  \n",
      " 7   MultipleLines     7043 non-null   int64  \n",
      " 8   InternetService   7043 non-null   object \n",
      " 9   OnlineSecurity    7043 non-null   object \n",
      " 10  OnlineBackup      7043 non-null   object \n",
      " 11  DeviceProtection  7043 non-null   object \n",
      " 12  TechSupport       7043 non-null   object \n",
      " 13  StreamingTV       7043 non-null   object \n",
      " 14  StreamingMovies   7043 non-null   object \n",
      " 15  Contract          7043 non-null   object \n",
      " 16  PaperlessBilling  7043 non-null   int64  \n",
      " 17  PaymentMethod     7043 non-null   object \n",
      " 18  MonthlyCharges    7043 non-null   float64\n",
      " 19  TotalCharges      7043 non-null   object \n",
      " 20  Churn             7043 non-null   int64  \n",
      "dtypes: float64(1), int64(9), object(11)\n",
      "memory usage: 1.1+ MB\n"
     ]
    }
   ],
   "source": [
    "df.info()"
   ]
  },
  {
   "cell_type": "markdown",
   "id": "7e9b3894-f1e7-4077-b7fc-cac2de814125",
   "metadata": {},
   "source": [
    "Podemos observar que las variables categóricas presentan pocos valores únicos, siendo 4 el máximo. Por lo tanto, consideramos adecuado aplicar One-Hot Encoding para transformar estas variables en un formato numérico y eliminar así las categorías originales."
   ]
  },
  {
   "cell_type": "code",
   "execution_count": 85,
   "id": "c7a854ed-0fbe-4317-9d69-567e52c63f5c",
   "metadata": {},
   "outputs": [
    {
     "data": {
      "text/plain": [
       "array(['DSL', 'Fiber optic', 0], dtype=object)"
      ]
     },
     "execution_count": 85,
     "metadata": {},
     "output_type": "execute_result"
    }
   ],
   "source": [
    "df.iloc[:,8].unique() "
   ]
  },
  {
   "cell_type": "code",
   "execution_count": 86,
   "id": "33883285-f069-46dc-b086-9434a651e28e",
   "metadata": {},
   "outputs": [
    {
     "data": {
      "text/plain": [
       "array(['Month-to-month', 'One year', 'Two year'], dtype=object)"
      ]
     },
     "execution_count": 86,
     "metadata": {},
     "output_type": "execute_result"
    }
   ],
   "source": [
    "df[\"Contract\"].unique()"
   ]
  },
  {
   "cell_type": "code",
   "execution_count": 87,
   "id": "d44e4891-d9a7-4257-af9d-22e96a36fd06",
   "metadata": {},
   "outputs": [
    {
     "data": {
      "text/plain": [
       "array(['Electronic check', 'Mailed check', 'Bank transfer (automatic)',\n",
       "       'Credit card (automatic)'], dtype=object)"
      ]
     },
     "execution_count": 87,
     "metadata": {},
     "output_type": "execute_result"
    }
   ],
   "source": [
    "df[\"PaymentMethod\"].unique()"
   ]
  },
  {
   "cell_type": "markdown",
   "id": "8fd3342d-7b2d-4a3f-97c8-af17d01c7a4a",
   "metadata": {},
   "source": [
    "## One hot"
   ]
  },
  {
   "cell_type": "code",
   "execution_count": 88,
   "id": "2790b5ae-c43c-43a5-b882-098658dd2e2d",
   "metadata": {},
   "outputs": [],
   "source": [
    "df = pd.get_dummies(df, columns=['InternetService'], prefix='Internet', drop_first=0)\n",
    "df = pd.get_dummies(df, columns=['Contract'], prefix='contr', drop_first=0)\n",
    "df = pd.get_dummies(df, columns=['PaymentMethod'], prefix='MetodoPago', drop_first=0)\n",
    "#hasta aqui las nuevas columnas tienen valores tipo \"True\", \"False\""
   ]
  },
  {
   "cell_type": "code",
   "execution_count": 89,
   "id": "a9c004e7-9e21-4f97-8999-a255dc355b8c",
   "metadata": {},
   "outputs": [
    {
     "data": {
      "text/html": [
       "<div>\n",
       "<style scoped>\n",
       "    .dataframe tbody tr th:only-of-type {\n",
       "        vertical-align: middle;\n",
       "    }\n",
       "\n",
       "    .dataframe tbody tr th {\n",
       "        vertical-align: top;\n",
       "    }\n",
       "\n",
       "    .dataframe thead th {\n",
       "        text-align: right;\n",
       "    }\n",
       "</style>\n",
       "<table border=\"1\" class=\"dataframe\">\n",
       "  <thead>\n",
       "    <tr style=\"text-align: right;\">\n",
       "      <th></th>\n",
       "      <th>customerID</th>\n",
       "      <th>gender</th>\n",
       "      <th>SeniorCitizen</th>\n",
       "      <th>Partner</th>\n",
       "      <th>Dependents</th>\n",
       "      <th>tenure</th>\n",
       "      <th>PhoneService</th>\n",
       "      <th>MultipleLines</th>\n",
       "      <th>OnlineSecurity</th>\n",
       "      <th>OnlineBackup</th>\n",
       "      <th>...</th>\n",
       "      <th>Internet_0</th>\n",
       "      <th>Internet_DSL</th>\n",
       "      <th>Internet_Fiber optic</th>\n",
       "      <th>contr_Month-to-month</th>\n",
       "      <th>contr_One year</th>\n",
       "      <th>contr_Two year</th>\n",
       "      <th>MetodoPago_Bank transfer (automatic)</th>\n",
       "      <th>MetodoPago_Credit card (automatic)</th>\n",
       "      <th>MetodoPago_Electronic check</th>\n",
       "      <th>MetodoPago_Mailed check</th>\n",
       "    </tr>\n",
       "  </thead>\n",
       "  <tbody>\n",
       "    <tr>\n",
       "      <th>0</th>\n",
       "      <td>7590-VHVEG</td>\n",
       "      <td>0</td>\n",
       "      <td>0</td>\n",
       "      <td>1</td>\n",
       "      <td>0</td>\n",
       "      <td>1</td>\n",
       "      <td>0</td>\n",
       "      <td>0</td>\n",
       "      <td>0</td>\n",
       "      <td>1</td>\n",
       "      <td>...</td>\n",
       "      <td>0</td>\n",
       "      <td>1</td>\n",
       "      <td>0</td>\n",
       "      <td>1</td>\n",
       "      <td>0</td>\n",
       "      <td>0</td>\n",
       "      <td>0</td>\n",
       "      <td>0</td>\n",
       "      <td>1</td>\n",
       "      <td>0</td>\n",
       "    </tr>\n",
       "    <tr>\n",
       "      <th>1</th>\n",
       "      <td>5575-GNVDE</td>\n",
       "      <td>1</td>\n",
       "      <td>0</td>\n",
       "      <td>0</td>\n",
       "      <td>0</td>\n",
       "      <td>34</td>\n",
       "      <td>1</td>\n",
       "      <td>0</td>\n",
       "      <td>1</td>\n",
       "      <td>0</td>\n",
       "      <td>...</td>\n",
       "      <td>0</td>\n",
       "      <td>1</td>\n",
       "      <td>0</td>\n",
       "      <td>0</td>\n",
       "      <td>1</td>\n",
       "      <td>0</td>\n",
       "      <td>0</td>\n",
       "      <td>0</td>\n",
       "      <td>0</td>\n",
       "      <td>1</td>\n",
       "    </tr>\n",
       "    <tr>\n",
       "      <th>2</th>\n",
       "      <td>3668-QPYBK</td>\n",
       "      <td>1</td>\n",
       "      <td>0</td>\n",
       "      <td>0</td>\n",
       "      <td>0</td>\n",
       "      <td>2</td>\n",
       "      <td>1</td>\n",
       "      <td>0</td>\n",
       "      <td>1</td>\n",
       "      <td>1</td>\n",
       "      <td>...</td>\n",
       "      <td>0</td>\n",
       "      <td>1</td>\n",
       "      <td>0</td>\n",
       "      <td>1</td>\n",
       "      <td>0</td>\n",
       "      <td>0</td>\n",
       "      <td>0</td>\n",
       "      <td>0</td>\n",
       "      <td>0</td>\n",
       "      <td>1</td>\n",
       "    </tr>\n",
       "    <tr>\n",
       "      <th>3</th>\n",
       "      <td>7795-CFOCW</td>\n",
       "      <td>1</td>\n",
       "      <td>0</td>\n",
       "      <td>0</td>\n",
       "      <td>0</td>\n",
       "      <td>45</td>\n",
       "      <td>0</td>\n",
       "      <td>0</td>\n",
       "      <td>1</td>\n",
       "      <td>0</td>\n",
       "      <td>...</td>\n",
       "      <td>0</td>\n",
       "      <td>1</td>\n",
       "      <td>0</td>\n",
       "      <td>0</td>\n",
       "      <td>1</td>\n",
       "      <td>0</td>\n",
       "      <td>1</td>\n",
       "      <td>0</td>\n",
       "      <td>0</td>\n",
       "      <td>0</td>\n",
       "    </tr>\n",
       "    <tr>\n",
       "      <th>4</th>\n",
       "      <td>9237-HQITU</td>\n",
       "      <td>0</td>\n",
       "      <td>0</td>\n",
       "      <td>0</td>\n",
       "      <td>0</td>\n",
       "      <td>2</td>\n",
       "      <td>1</td>\n",
       "      <td>0</td>\n",
       "      <td>0</td>\n",
       "      <td>0</td>\n",
       "      <td>...</td>\n",
       "      <td>0</td>\n",
       "      <td>0</td>\n",
       "      <td>1</td>\n",
       "      <td>1</td>\n",
       "      <td>0</td>\n",
       "      <td>0</td>\n",
       "      <td>0</td>\n",
       "      <td>0</td>\n",
       "      <td>1</td>\n",
       "      <td>0</td>\n",
       "    </tr>\n",
       "    <tr>\n",
       "      <th>...</th>\n",
       "      <td>...</td>\n",
       "      <td>...</td>\n",
       "      <td>...</td>\n",
       "      <td>...</td>\n",
       "      <td>...</td>\n",
       "      <td>...</td>\n",
       "      <td>...</td>\n",
       "      <td>...</td>\n",
       "      <td>...</td>\n",
       "      <td>...</td>\n",
       "      <td>...</td>\n",
       "      <td>...</td>\n",
       "      <td>...</td>\n",
       "      <td>...</td>\n",
       "      <td>...</td>\n",
       "      <td>...</td>\n",
       "      <td>...</td>\n",
       "      <td>...</td>\n",
       "      <td>...</td>\n",
       "      <td>...</td>\n",
       "      <td>...</td>\n",
       "    </tr>\n",
       "    <tr>\n",
       "      <th>7038</th>\n",
       "      <td>6840-RESVB</td>\n",
       "      <td>1</td>\n",
       "      <td>0</td>\n",
       "      <td>1</td>\n",
       "      <td>1</td>\n",
       "      <td>24</td>\n",
       "      <td>1</td>\n",
       "      <td>1</td>\n",
       "      <td>1</td>\n",
       "      <td>0</td>\n",
       "      <td>...</td>\n",
       "      <td>0</td>\n",
       "      <td>1</td>\n",
       "      <td>0</td>\n",
       "      <td>0</td>\n",
       "      <td>1</td>\n",
       "      <td>0</td>\n",
       "      <td>0</td>\n",
       "      <td>0</td>\n",
       "      <td>0</td>\n",
       "      <td>1</td>\n",
       "    </tr>\n",
       "    <tr>\n",
       "      <th>7039</th>\n",
       "      <td>2234-XADUH</td>\n",
       "      <td>0</td>\n",
       "      <td>0</td>\n",
       "      <td>1</td>\n",
       "      <td>1</td>\n",
       "      <td>72</td>\n",
       "      <td>1</td>\n",
       "      <td>1</td>\n",
       "      <td>0</td>\n",
       "      <td>1</td>\n",
       "      <td>...</td>\n",
       "      <td>0</td>\n",
       "      <td>0</td>\n",
       "      <td>1</td>\n",
       "      <td>0</td>\n",
       "      <td>1</td>\n",
       "      <td>0</td>\n",
       "      <td>0</td>\n",
       "      <td>1</td>\n",
       "      <td>0</td>\n",
       "      <td>0</td>\n",
       "    </tr>\n",
       "    <tr>\n",
       "      <th>7040</th>\n",
       "      <td>4801-JZAZL</td>\n",
       "      <td>0</td>\n",
       "      <td>0</td>\n",
       "      <td>1</td>\n",
       "      <td>1</td>\n",
       "      <td>11</td>\n",
       "      <td>0</td>\n",
       "      <td>0</td>\n",
       "      <td>1</td>\n",
       "      <td>0</td>\n",
       "      <td>...</td>\n",
       "      <td>0</td>\n",
       "      <td>1</td>\n",
       "      <td>0</td>\n",
       "      <td>1</td>\n",
       "      <td>0</td>\n",
       "      <td>0</td>\n",
       "      <td>0</td>\n",
       "      <td>0</td>\n",
       "      <td>1</td>\n",
       "      <td>0</td>\n",
       "    </tr>\n",
       "    <tr>\n",
       "      <th>7041</th>\n",
       "      <td>8361-LTMKD</td>\n",
       "      <td>1</td>\n",
       "      <td>1</td>\n",
       "      <td>1</td>\n",
       "      <td>0</td>\n",
       "      <td>4</td>\n",
       "      <td>1</td>\n",
       "      <td>1</td>\n",
       "      <td>0</td>\n",
       "      <td>0</td>\n",
       "      <td>...</td>\n",
       "      <td>0</td>\n",
       "      <td>0</td>\n",
       "      <td>1</td>\n",
       "      <td>1</td>\n",
       "      <td>0</td>\n",
       "      <td>0</td>\n",
       "      <td>0</td>\n",
       "      <td>0</td>\n",
       "      <td>0</td>\n",
       "      <td>1</td>\n",
       "    </tr>\n",
       "    <tr>\n",
       "      <th>7042</th>\n",
       "      <td>3186-AJIEK</td>\n",
       "      <td>1</td>\n",
       "      <td>0</td>\n",
       "      <td>0</td>\n",
       "      <td>0</td>\n",
       "      <td>66</td>\n",
       "      <td>1</td>\n",
       "      <td>0</td>\n",
       "      <td>1</td>\n",
       "      <td>0</td>\n",
       "      <td>...</td>\n",
       "      <td>0</td>\n",
       "      <td>0</td>\n",
       "      <td>1</td>\n",
       "      <td>0</td>\n",
       "      <td>0</td>\n",
       "      <td>1</td>\n",
       "      <td>1</td>\n",
       "      <td>0</td>\n",
       "      <td>0</td>\n",
       "      <td>0</td>\n",
       "    </tr>\n",
       "  </tbody>\n",
       "</table>\n",
       "<p>7043 rows × 28 columns</p>\n",
       "</div>"
      ],
      "text/plain": [
       "      customerID  gender  SeniorCitizen  Partner  Dependents  tenure  \\\n",
       "0     7590-VHVEG       0              0        1           0       1   \n",
       "1     5575-GNVDE       1              0        0           0      34   \n",
       "2     3668-QPYBK       1              0        0           0       2   \n",
       "3     7795-CFOCW       1              0        0           0      45   \n",
       "4     9237-HQITU       0              0        0           0       2   \n",
       "...          ...     ...            ...      ...         ...     ...   \n",
       "7038  6840-RESVB       1              0        1           1      24   \n",
       "7039  2234-XADUH       0              0        1           1      72   \n",
       "7040  4801-JZAZL       0              0        1           1      11   \n",
       "7041  8361-LTMKD       1              1        1           0       4   \n",
       "7042  3186-AJIEK       1              0        0           0      66   \n",
       "\n",
       "      PhoneService  MultipleLines OnlineSecurity OnlineBackup  ... Internet_0  \\\n",
       "0                0              0              0            1  ...          0   \n",
       "1                1              0              1            0  ...          0   \n",
       "2                1              0              1            1  ...          0   \n",
       "3                0              0              1            0  ...          0   \n",
       "4                1              0              0            0  ...          0   \n",
       "...            ...            ...            ...          ...  ...        ...   \n",
       "7038             1              1              1            0  ...          0   \n",
       "7039             1              1              0            1  ...          0   \n",
       "7040             0              0              1            0  ...          0   \n",
       "7041             1              1              0            0  ...          0   \n",
       "7042             1              0              1            0  ...          0   \n",
       "\n",
       "     Internet_DSL Internet_Fiber optic contr_Month-to-month  contr_One year  \\\n",
       "0               1                    0                    1               0   \n",
       "1               1                    0                    0               1   \n",
       "2               1                    0                    1               0   \n",
       "3               1                    0                    0               1   \n",
       "4               0                    1                    1               0   \n",
       "...           ...                  ...                  ...             ...   \n",
       "7038            1                    0                    0               1   \n",
       "7039            0                    1                    0               1   \n",
       "7040            1                    0                    1               0   \n",
       "7041            0                    1                    1               0   \n",
       "7042            0                    1                    0               0   \n",
       "\n",
       "      contr_Two year MetodoPago_Bank transfer (automatic)  \\\n",
       "0                  0                                    0   \n",
       "1                  0                                    0   \n",
       "2                  0                                    0   \n",
       "3                  0                                    1   \n",
       "4                  0                                    0   \n",
       "...              ...                                  ...   \n",
       "7038               0                                    0   \n",
       "7039               0                                    0   \n",
       "7040               0                                    0   \n",
       "7041               0                                    0   \n",
       "7042               1                                    1   \n",
       "\n",
       "      MetodoPago_Credit card (automatic)  MetodoPago_Electronic check  \\\n",
       "0                                      0                            1   \n",
       "1                                      0                            0   \n",
       "2                                      0                            0   \n",
       "3                                      0                            0   \n",
       "4                                      0                            1   \n",
       "...                                  ...                          ...   \n",
       "7038                                   0                            0   \n",
       "7039                                   1                            0   \n",
       "7040                                   0                            1   \n",
       "7041                                   0                            0   \n",
       "7042                                   0                            0   \n",
       "\n",
       "      MetodoPago_Mailed check  \n",
       "0                           0  \n",
       "1                           1  \n",
       "2                           1  \n",
       "3                           0  \n",
       "4                           0  \n",
       "...                       ...  \n",
       "7038                        1  \n",
       "7039                        0  \n",
       "7040                        0  \n",
       "7041                        1  \n",
       "7042                        0  \n",
       "\n",
       "[7043 rows x 28 columns]"
      ]
     },
     "execution_count": 89,
     "metadata": {},
     "output_type": "execute_result"
    }
   ],
   "source": [
    "#Se convierten todas las columnas tipo bool a int (1 y 0)\n",
    "df[df.select_dtypes(bool).columns] = df.select_dtypes(bool).astype(int)\n",
    "df\n"
   ]
  },
  {
   "cell_type": "markdown",
   "id": "f3d9959d-817d-4447-870d-7d0fcbc85afd",
   "metadata": {},
   "source": [
    "### Estadísticas básicas de variables numéricas\n",
    "\n",
    "- Todas las columnas numéricas tienen 7043 valores, sin datos faltantes.\n",
    "- `SeniorCitizen` es una variable binaria (0 o 1).\n",
    "- `tenure` (tiempo como cliente) tiene un promedio de ~32 meses, con gran variabilidad (std ~24.5).\n",
    "- `MonthlyCharges` varía entre 18.25 y 118.75, con mediana en 70.35, mostrando diversidad en los cargos mensuales.\n",
    "- Los percentiles ayudan a entender la distribución y posibles valores atípicos.\n"
   ]
  },
  {
   "cell_type": "code",
   "execution_count": 90,
   "id": "7c059347-a09b-4281-99e8-e1b4d5131145",
   "metadata": {},
   "outputs": [
    {
     "data": {
      "text/html": [
       "<div>\n",
       "<style scoped>\n",
       "    .dataframe tbody tr th:only-of-type {\n",
       "        vertical-align: middle;\n",
       "    }\n",
       "\n",
       "    .dataframe tbody tr th {\n",
       "        vertical-align: top;\n",
       "    }\n",
       "\n",
       "    .dataframe thead th {\n",
       "        text-align: right;\n",
       "    }\n",
       "</style>\n",
       "<table border=\"1\" class=\"dataframe\">\n",
       "  <thead>\n",
       "    <tr style=\"text-align: right;\">\n",
       "      <th></th>\n",
       "      <th>gender</th>\n",
       "      <th>SeniorCitizen</th>\n",
       "      <th>Partner</th>\n",
       "      <th>Dependents</th>\n",
       "      <th>tenure</th>\n",
       "      <th>PhoneService</th>\n",
       "      <th>MultipleLines</th>\n",
       "      <th>PaperlessBilling</th>\n",
       "      <th>MonthlyCharges</th>\n",
       "      <th>Churn</th>\n",
       "      <th>Internet_0</th>\n",
       "      <th>Internet_DSL</th>\n",
       "      <th>Internet_Fiber optic</th>\n",
       "      <th>contr_Month-to-month</th>\n",
       "      <th>contr_One year</th>\n",
       "      <th>contr_Two year</th>\n",
       "      <th>MetodoPago_Bank transfer (automatic)</th>\n",
       "      <th>MetodoPago_Credit card (automatic)</th>\n",
       "      <th>MetodoPago_Electronic check</th>\n",
       "      <th>MetodoPago_Mailed check</th>\n",
       "    </tr>\n",
       "  </thead>\n",
       "  <tbody>\n",
       "    <tr>\n",
       "      <th>count</th>\n",
       "      <td>7043.000000</td>\n",
       "      <td>7043.000000</td>\n",
       "      <td>7043.000000</td>\n",
       "      <td>7043.000000</td>\n",
       "      <td>7043.000000</td>\n",
       "      <td>7043.000000</td>\n",
       "      <td>7043.000000</td>\n",
       "      <td>7043.000000</td>\n",
       "      <td>7043.000000</td>\n",
       "      <td>7043.000000</td>\n",
       "      <td>7043.000000</td>\n",
       "      <td>7043.000000</td>\n",
       "      <td>7043.000000</td>\n",
       "      <td>7043.000000</td>\n",
       "      <td>7043.000000</td>\n",
       "      <td>7043.000000</td>\n",
       "      <td>7043.000000</td>\n",
       "      <td>7043.000000</td>\n",
       "      <td>7043.000000</td>\n",
       "      <td>7043.000000</td>\n",
       "    </tr>\n",
       "    <tr>\n",
       "      <th>mean</th>\n",
       "      <td>0.504756</td>\n",
       "      <td>0.162147</td>\n",
       "      <td>0.483033</td>\n",
       "      <td>0.299588</td>\n",
       "      <td>32.371149</td>\n",
       "      <td>0.903166</td>\n",
       "      <td>0.421837</td>\n",
       "      <td>0.592219</td>\n",
       "      <td>64.761692</td>\n",
       "      <td>0.265370</td>\n",
       "      <td>0.216669</td>\n",
       "      <td>0.343746</td>\n",
       "      <td>0.439585</td>\n",
       "      <td>0.550192</td>\n",
       "      <td>0.209144</td>\n",
       "      <td>0.240664</td>\n",
       "      <td>0.219225</td>\n",
       "      <td>0.216101</td>\n",
       "      <td>0.335794</td>\n",
       "      <td>0.228880</td>\n",
       "    </tr>\n",
       "    <tr>\n",
       "      <th>std</th>\n",
       "      <td>0.500013</td>\n",
       "      <td>0.368612</td>\n",
       "      <td>0.499748</td>\n",
       "      <td>0.458110</td>\n",
       "      <td>24.559481</td>\n",
       "      <td>0.295752</td>\n",
       "      <td>0.493888</td>\n",
       "      <td>0.491457</td>\n",
       "      <td>30.090047</td>\n",
       "      <td>0.441561</td>\n",
       "      <td>0.412004</td>\n",
       "      <td>0.474991</td>\n",
       "      <td>0.496372</td>\n",
       "      <td>0.497510</td>\n",
       "      <td>0.406726</td>\n",
       "      <td>0.427517</td>\n",
       "      <td>0.413751</td>\n",
       "      <td>0.411613</td>\n",
       "      <td>0.472301</td>\n",
       "      <td>0.420141</td>\n",
       "    </tr>\n",
       "    <tr>\n",
       "      <th>min</th>\n",
       "      <td>0.000000</td>\n",
       "      <td>0.000000</td>\n",
       "      <td>0.000000</td>\n",
       "      <td>0.000000</td>\n",
       "      <td>0.000000</td>\n",
       "      <td>0.000000</td>\n",
       "      <td>0.000000</td>\n",
       "      <td>0.000000</td>\n",
       "      <td>18.250000</td>\n",
       "      <td>0.000000</td>\n",
       "      <td>0.000000</td>\n",
       "      <td>0.000000</td>\n",
       "      <td>0.000000</td>\n",
       "      <td>0.000000</td>\n",
       "      <td>0.000000</td>\n",
       "      <td>0.000000</td>\n",
       "      <td>0.000000</td>\n",
       "      <td>0.000000</td>\n",
       "      <td>0.000000</td>\n",
       "      <td>0.000000</td>\n",
       "    </tr>\n",
       "    <tr>\n",
       "      <th>25%</th>\n",
       "      <td>0.000000</td>\n",
       "      <td>0.000000</td>\n",
       "      <td>0.000000</td>\n",
       "      <td>0.000000</td>\n",
       "      <td>9.000000</td>\n",
       "      <td>1.000000</td>\n",
       "      <td>0.000000</td>\n",
       "      <td>0.000000</td>\n",
       "      <td>35.500000</td>\n",
       "      <td>0.000000</td>\n",
       "      <td>0.000000</td>\n",
       "      <td>0.000000</td>\n",
       "      <td>0.000000</td>\n",
       "      <td>0.000000</td>\n",
       "      <td>0.000000</td>\n",
       "      <td>0.000000</td>\n",
       "      <td>0.000000</td>\n",
       "      <td>0.000000</td>\n",
       "      <td>0.000000</td>\n",
       "      <td>0.000000</td>\n",
       "    </tr>\n",
       "    <tr>\n",
       "      <th>50%</th>\n",
       "      <td>1.000000</td>\n",
       "      <td>0.000000</td>\n",
       "      <td>0.000000</td>\n",
       "      <td>0.000000</td>\n",
       "      <td>29.000000</td>\n",
       "      <td>1.000000</td>\n",
       "      <td>0.000000</td>\n",
       "      <td>1.000000</td>\n",
       "      <td>70.350000</td>\n",
       "      <td>0.000000</td>\n",
       "      <td>0.000000</td>\n",
       "      <td>0.000000</td>\n",
       "      <td>0.000000</td>\n",
       "      <td>1.000000</td>\n",
       "      <td>0.000000</td>\n",
       "      <td>0.000000</td>\n",
       "      <td>0.000000</td>\n",
       "      <td>0.000000</td>\n",
       "      <td>0.000000</td>\n",
       "      <td>0.000000</td>\n",
       "    </tr>\n",
       "    <tr>\n",
       "      <th>75%</th>\n",
       "      <td>1.000000</td>\n",
       "      <td>0.000000</td>\n",
       "      <td>1.000000</td>\n",
       "      <td>1.000000</td>\n",
       "      <td>55.000000</td>\n",
       "      <td>1.000000</td>\n",
       "      <td>1.000000</td>\n",
       "      <td>1.000000</td>\n",
       "      <td>89.850000</td>\n",
       "      <td>1.000000</td>\n",
       "      <td>0.000000</td>\n",
       "      <td>1.000000</td>\n",
       "      <td>1.000000</td>\n",
       "      <td>1.000000</td>\n",
       "      <td>0.000000</td>\n",
       "      <td>0.000000</td>\n",
       "      <td>0.000000</td>\n",
       "      <td>0.000000</td>\n",
       "      <td>1.000000</td>\n",
       "      <td>0.000000</td>\n",
       "    </tr>\n",
       "    <tr>\n",
       "      <th>max</th>\n",
       "      <td>1.000000</td>\n",
       "      <td>1.000000</td>\n",
       "      <td>1.000000</td>\n",
       "      <td>1.000000</td>\n",
       "      <td>72.000000</td>\n",
       "      <td>1.000000</td>\n",
       "      <td>1.000000</td>\n",
       "      <td>1.000000</td>\n",
       "      <td>118.750000</td>\n",
       "      <td>1.000000</td>\n",
       "      <td>1.000000</td>\n",
       "      <td>1.000000</td>\n",
       "      <td>1.000000</td>\n",
       "      <td>1.000000</td>\n",
       "      <td>1.000000</td>\n",
       "      <td>1.000000</td>\n",
       "      <td>1.000000</td>\n",
       "      <td>1.000000</td>\n",
       "      <td>1.000000</td>\n",
       "      <td>1.000000</td>\n",
       "    </tr>\n",
       "  </tbody>\n",
       "</table>\n",
       "</div>"
      ],
      "text/plain": [
       "            gender  SeniorCitizen      Partner   Dependents       tenure  \\\n",
       "count  7043.000000    7043.000000  7043.000000  7043.000000  7043.000000   \n",
       "mean      0.504756       0.162147     0.483033     0.299588    32.371149   \n",
       "std       0.500013       0.368612     0.499748     0.458110    24.559481   \n",
       "min       0.000000       0.000000     0.000000     0.000000     0.000000   \n",
       "25%       0.000000       0.000000     0.000000     0.000000     9.000000   \n",
       "50%       1.000000       0.000000     0.000000     0.000000    29.000000   \n",
       "75%       1.000000       0.000000     1.000000     1.000000    55.000000   \n",
       "max       1.000000       1.000000     1.000000     1.000000    72.000000   \n",
       "\n",
       "       PhoneService  MultipleLines  PaperlessBilling  MonthlyCharges  \\\n",
       "count   7043.000000    7043.000000       7043.000000     7043.000000   \n",
       "mean       0.903166       0.421837          0.592219       64.761692   \n",
       "std        0.295752       0.493888          0.491457       30.090047   \n",
       "min        0.000000       0.000000          0.000000       18.250000   \n",
       "25%        1.000000       0.000000          0.000000       35.500000   \n",
       "50%        1.000000       0.000000          1.000000       70.350000   \n",
       "75%        1.000000       1.000000          1.000000       89.850000   \n",
       "max        1.000000       1.000000          1.000000      118.750000   \n",
       "\n",
       "             Churn   Internet_0  Internet_DSL  Internet_Fiber optic  \\\n",
       "count  7043.000000  7043.000000   7043.000000           7043.000000   \n",
       "mean      0.265370     0.216669      0.343746              0.439585   \n",
       "std       0.441561     0.412004      0.474991              0.496372   \n",
       "min       0.000000     0.000000      0.000000              0.000000   \n",
       "25%       0.000000     0.000000      0.000000              0.000000   \n",
       "50%       0.000000     0.000000      0.000000              0.000000   \n",
       "75%       1.000000     0.000000      1.000000              1.000000   \n",
       "max       1.000000     1.000000      1.000000              1.000000   \n",
       "\n",
       "       contr_Month-to-month  contr_One year  contr_Two year  \\\n",
       "count           7043.000000     7043.000000     7043.000000   \n",
       "mean               0.550192        0.209144        0.240664   \n",
       "std                0.497510        0.406726        0.427517   \n",
       "min                0.000000        0.000000        0.000000   \n",
       "25%                0.000000        0.000000        0.000000   \n",
       "50%                1.000000        0.000000        0.000000   \n",
       "75%                1.000000        0.000000        0.000000   \n",
       "max                1.000000        1.000000        1.000000   \n",
       "\n",
       "       MetodoPago_Bank transfer (automatic)  \\\n",
       "count                           7043.000000   \n",
       "mean                               0.219225   \n",
       "std                                0.413751   \n",
       "min                                0.000000   \n",
       "25%                                0.000000   \n",
       "50%                                0.000000   \n",
       "75%                                0.000000   \n",
       "max                                1.000000   \n",
       "\n",
       "       MetodoPago_Credit card (automatic)  MetodoPago_Electronic check  \\\n",
       "count                         7043.000000                  7043.000000   \n",
       "mean                             0.216101                     0.335794   \n",
       "std                              0.411613                     0.472301   \n",
       "min                              0.000000                     0.000000   \n",
       "25%                              0.000000                     0.000000   \n",
       "50%                              0.000000                     0.000000   \n",
       "75%                              0.000000                     1.000000   \n",
       "max                              1.000000                     1.000000   \n",
       "\n",
       "       MetodoPago_Mailed check  \n",
       "count              7043.000000  \n",
       "mean                  0.228880  \n",
       "std                   0.420141  \n",
       "min                   0.000000  \n",
       "25%                   0.000000  \n",
       "50%                   0.000000  \n",
       "75%                   0.000000  \n",
       "max                   1.000000  "
      ]
     },
     "execution_count": 90,
     "metadata": {},
     "output_type": "execute_result"
    }
   ],
   "source": [
    "df.describe()"
   ]
  },
  {
   "cell_type": "markdown",
   "id": "a39d057e-5a92-4478-bfc7-d0ea82cd9be4",
   "metadata": {},
   "source": [
    "# Revisar y eliminar valores nulos"
   ]
  },
  {
   "cell_type": "markdown",
   "id": "e68659fe-99fd-4183-8443-46ba5a64df9f",
   "metadata": {},
   "source": [
    "Antes de contar valores nulos, vamos a asegurarnos de que las columnas numéricas sean realmente numéricas. En caso de que existan valores con espacios en blanco `\" \"`, los convertiremos a `NaN` para poder identificarlos y tratarlos correctamente.\n"
   ]
  },
  {
   "cell_type": "code",
   "execution_count": 91,
   "id": "1b876b08-b527-4d86-a971-fa12ca6d20df",
   "metadata": {},
   "outputs": [],
   "source": [
    "# Lista de columnas que deben ser numéricas ahora toas las columnas son númericas hay que mejorar esto\n",
    "columnas_numericas = ['SeniorCitizen', 'tenure', 'MonthlyCharges', 'TotalCharges']\n",
    "\n",
    "# Convertir esas columnas a numérico, poniendo NaN donde no se pueda convertir\n",
    "for col in columnas_numericas:\n",
    "    df[col] = pd.to_numeric(df[col], errors='coerce')"
   ]
  },
  {
   "cell_type": "markdown",
   "id": "40992d88-fac7-490a-bab7-6208b60dcc59",
   "metadata": {},
   "source": [
    "\n",
    "Ahora que hemos convertido correctamente los valores numéricos, procedemos a contar la cantidad de valores nulos en cada columna del DataFrame.\n"
   ]
  },
  {
   "cell_type": "code",
   "execution_count": 92,
   "id": "20c6bec4-b8ff-45a0-9e6f-c2fcefd67634",
   "metadata": {},
   "outputs": [
    {
     "name": "stdout",
     "output_type": "stream",
     "text": [
      "customerID                               0\n",
      "gender                                   0\n",
      "SeniorCitizen                            0\n",
      "Partner                                  0\n",
      "Dependents                               0\n",
      "tenure                                   0\n",
      "PhoneService                             0\n",
      "MultipleLines                            0\n",
      "OnlineSecurity                           0\n",
      "OnlineBackup                             0\n",
      "DeviceProtection                         0\n",
      "TechSupport                              0\n",
      "StreamingTV                              0\n",
      "StreamingMovies                          0\n",
      "PaperlessBilling                         0\n",
      "MonthlyCharges                           0\n",
      "TotalCharges                            11\n",
      "Churn                                    0\n",
      "Internet_0                               0\n",
      "Internet_DSL                             0\n",
      "Internet_Fiber optic                     0\n",
      "contr_Month-to-month                     0\n",
      "contr_One year                           0\n",
      "contr_Two year                           0\n",
      "MetodoPago_Bank transfer (automatic)     0\n",
      "MetodoPago_Credit card (automatic)       0\n",
      "MetodoPago_Electronic check              0\n",
      "MetodoPago_Mailed check                  0\n",
      "dtype: int64\n"
     ]
    }
   ],
   "source": [
    "print(df.isnull().sum()) "
   ]
  },
  {
   "cell_type": "markdown",
   "id": "736ccda5-b373-4ba9-9898-fee223886928",
   "metadata": {},
   "source": [
    "Podemos observer que la columna \"TotalCharges\" contiene 11 valores nulos"
   ]
  },
  {
   "cell_type": "markdown",
   "id": "4ed340c3-ed7e-4fb5-b9e0-0eee3fb63ff8",
   "metadata": {},
   "source": [
    "\n",
    "Dado que la cantidad de valores nulos es pequeña, podemos optar por eliminar todas las filas que contengan al menos un valor nulo usando `dropna()`.\n"
   ]
  },
  {
   "cell_type": "code",
   "execution_count": 93,
   "id": "60dc9ec0-d991-4895-85be-3035e8e8961f",
   "metadata": {},
   "outputs": [
    {
     "data": {
      "text/plain": [
       "(7032, 28)"
      ]
     },
     "execution_count": 93,
     "metadata": {},
     "output_type": "execute_result"
    }
   ],
   "source": [
    "# Eliminar filas con valores nulos en 'TotalCharges'\n",
    "df = df.dropna()\n",
    "df.shape"
   ]
  },
  {
   "cell_type": "markdown",
   "id": "43ea1f64-22de-4471-8d30-b94ea6d0a078",
   "metadata": {},
   "source": [
    "\n",
    "Finalmente, verificamos si aún existen valores nulos en el dataframe y comprobamos que no queda ninguno.\n"
   ]
  },
  {
   "cell_type": "code",
   "execution_count": 94,
   "id": "c8bfeac7-dd9a-44ba-88a9-9af154aabce0",
   "metadata": {},
   "outputs": [
    {
     "name": "stdout",
     "output_type": "stream",
     "text": [
      "customerID                              0\n",
      "gender                                  0\n",
      "SeniorCitizen                           0\n",
      "Partner                                 0\n",
      "Dependents                              0\n",
      "tenure                                  0\n",
      "PhoneService                            0\n",
      "MultipleLines                           0\n",
      "OnlineSecurity                          0\n",
      "OnlineBackup                            0\n",
      "DeviceProtection                        0\n",
      "TechSupport                             0\n",
      "StreamingTV                             0\n",
      "StreamingMovies                         0\n",
      "PaperlessBilling                        0\n",
      "MonthlyCharges                          0\n",
      "TotalCharges                            0\n",
      "Churn                                   0\n",
      "Internet_0                              0\n",
      "Internet_DSL                            0\n",
      "Internet_Fiber optic                    0\n",
      "contr_Month-to-month                    0\n",
      "contr_One year                          0\n",
      "contr_Two year                          0\n",
      "MetodoPago_Bank transfer (automatic)    0\n",
      "MetodoPago_Credit card (automatic)      0\n",
      "MetodoPago_Electronic check             0\n",
      "MetodoPago_Mailed check                 0\n",
      "dtype: int64\n"
     ]
    }
   ],
   "source": [
    "print(df.isnull().sum())  #"
   ]
  },
  {
   "cell_type": "markdown",
   "id": "96ac8e34-f477-4c17-9ba4-1b7ca56e579b",
   "metadata": {},
   "source": [
    "# 4. Verificar si existen valores atopicos de forma visual"
   ]
  },
  {
   "cell_type": "markdown",
   "id": "016e168d-8c41-4c7b-a6b6-a4acb5755bd8",
   "metadata": {},
   "source": [
    "Para identificar valores atípicos, utilizaremos un gráfico de caja (boxplot). En este caso, observamos que no hay valores atípicos evidentes. Sin embargo, si se detectaran, podríamos aplicar el rango intercuartílico (IQR) para filtrarlos y eliminarlos."
   ]
  },
  {
   "cell_type": "code",
   "execution_count": 95,
   "id": "4b3cc565-4e95-47a3-ac47-6dc8779db125",
   "metadata": {},
   "outputs": [
    {
     "data": {
      "image/png": "[encoded data removed]",
      "text/plain": [
       "<Figure size 2000x1000 with 1 Axes>"
      ]
     },
     "metadata": {},
     "output_type": "display_data"
    }
   ],
   "source": [
    "cajas = [\"TotalCharges\", \"MonthlyCharges\", \"Churn\"]\n",
    "df.plot(kind = \"box\", figsize = (20,10))\n",
    "plt.xticks(rotation=90)\n",
    "plt.show()"
   ]
  },
  {
   "cell_type": "markdown",
   "id": "2b45f623-f025-4a37-aa3d-fa26bb217529",
   "metadata": {},
   "source": [
    "Aparentemente, las columnas PhotoService y SeniorCitizen presentan valores atípicos. Sin embargo, al revisar previamente con la función describe(), observamos que en ambas columnas el valor mínimo es 0 y el máximo es 1, por lo que no hay motivo de alarma. Lo que ocurre es que el promedio está cercano a 0, lo que puede dar una impresión equivocada."
   ]
  },
  {
   "cell_type": "markdown",
   "id": "ae890c69-c7ea-4adf-bbc9-709505d08c02",
   "metadata": {},
   "source": [
    "# 5. Analizar la distribución de la variable objetivo"
   ]
  },
  {
   "cell_type": "code",
   "execution_count": 96,
   "id": "90238171-e61d-4200-aaee-c6640d3836e4",
   "metadata": {},
   "outputs": [
    {
     "data": {
      "image/png": "[encoded data removed]",
      "text/plain": [
       "<Figure size 640x480 with 1 Axes>"
      ]
     },
     "metadata": {},
     "output_type": "display_data"
    }
   ],
   "source": [
    "sns.countplot(x='Churn', data=df)\n",
    "plt.title('Distribución de abandono de Clientes')\n",
    "plt.show()"
   ]
  },
  {
   "cell_type": "markdown",
   "id": "d76a1ddb-10ec-4f8e-ba51-17be302d9800",
   "metadata": {},
   "source": [
    "\n",
    "\n",
    "En el gráfico titulado \"Distribución de abandono de clientes\", observamos que el 27% de los clientes han abandonado el servicio mientras que el 73% no lo abandonaron.  \n",
    "Nuestro objetivo es identificar las características que distinguen a estos clientes, con el fin de comprender mejor su comportamiento y anticipar futuros casos de abandono.\n"
   ]
  },
  {
   "cell_type": "code",
   "execution_count": 97,
   "id": "367ef630-4564-4e70-86ef-458eca13c2f7",
   "metadata": {},
   "outputs": [
    {
     "data": {
      "text/plain": [
       "17"
      ]
     },
     "execution_count": 97,
     "metadata": {},
     "output_type": "execute_result"
    }
   ],
   "source": [
    "# Porcentaje de clientes que abandonaron el servicio\n",
    "c = list(df.columns)\n",
    "c.index(\"Churn\")"
   ]
  },
  {
   "cell_type": "code",
   "execution_count": 98,
   "id": "1774ad71-f830-4bcf-9b6b-205ef6d87fa7",
   "metadata": {},
   "outputs": [
    {
     "name": "stdout",
     "output_type": "stream",
     "text": [
      "Porcentaje de personas que SI abandonaron el servicio 73%\n",
      "Porcentaje de personas que NO abandonaron el servicio 27%\n"
     ]
    }
   ],
   "source": [
    "Clientes0 = df[df.iloc[:,17]==0][\"Churn\"].count()\n",
    "Clientes1 = df[df.iloc[:,17]==1][\"Churn\"].count()\n",
    "porcent1 = (Clientes0 * 100) / df.shape[0]\n",
    "porcent0 = (Clientes1 * 100) / df.shape[0]\n",
    "\n",
    "print(f\"Porcentaje de personas que SI abandonaron el servicio {round(porcent1)}%\") \n",
    "print(f\"Porcentaje de personas que NO abandonaron el servicio {round(porcent0)}%\") "
   ]
  },
  {
   "cell_type": "markdown",
   "id": "b08b2952-dba2-4c75-946f-b0d365c76bc4",
   "metadata": {},
   "source": [
    "# 6. Distribución de variables numéricas"
   ]
  },
  {
   "cell_type": "markdown",
   "id": "d4432a70-7bbf-4a28-9a37-e873f58a7e2a",
   "metadata": {},
   "source": [
    "El siguiente gráfico permite visualizar la relación entre los cargos mensuales `MonthlyCharges` y la tasa de abandono del servicio `Churn`. \n",
    "\n",
    "Se observa que entre los clientes que pagan entre 20 y 40 dólares mensuales, aproximadamente el 90% permanece con el servicio. En contraste, en el rango de 70 a 100 dólares mensuales, cerca del 50% de los clientes abandonan el servicio. Esto sugiere que los cargos mensuales más altos podrían estar asociados con una mayor probabilidad de abandono.\n"
   ]
  },
  {
   "cell_type": "code",
   "execution_count": 99,
   "id": "edf68c8b-5c11-4aae-8f2a-2acb86300652",
   "metadata": {},
   "outputs": [
    {
     "data": {
      "image/png": "[encoded data removed]",
      "text/plain": [
       "<Figure size 640x480 with 1 Axes>"
      ]
     },
     "metadata": {},
     "output_type": "display_data"
    }
   ],
   "source": [
    "sns.histplot(data=df, x='MonthlyCharges', hue='Churn', kde=True, bins=30)\n",
    "plt.title('Distribución de cargos mensuales según churn')\n",
    "plt.show()\n"
   ]
  },
  {
   "cell_type": "markdown",
   "id": "6023b137-e7e0-4956-ae0e-5476b3d3fdef",
   "metadata": {},
   "source": [
    "# 7. filtrado de datos con graficas\n"
   ]
  },
  {
   "cell_type": "code",
   "execution_count": 100,
   "id": "08d4f42d-1e0a-466a-acaa-d4d074c8dc30",
   "metadata": {},
   "outputs": [
    {
     "data": {
      "text/plain": [
       "Index(['customerID', 'gender', 'SeniorCitizen', 'Partner', 'Dependents',\n",
       "       'tenure', 'PhoneService', 'MultipleLines', 'OnlineSecurity',\n",
       "       'OnlineBackup', 'DeviceProtection', 'TechSupport', 'StreamingTV',\n",
       "       'StreamingMovies', 'PaperlessBilling', 'MonthlyCharges', 'TotalCharges',\n",
       "       'Churn', 'Internet_0', 'Internet_DSL', 'Internet_Fiber optic',\n",
       "       'contr_Month-to-month', 'contr_One year', 'contr_Two year',\n",
       "       'MetodoPago_Bank transfer (automatic)',\n",
       "       'MetodoPago_Credit card (automatic)', 'MetodoPago_Electronic check',\n",
       "       'MetodoPago_Mailed check'],\n",
       "      dtype='object')"
      ]
     },
     "execution_count": 100,
     "metadata": {},
     "output_type": "execute_result"
    }
   ],
   "source": [
    "df.columns"
   ]
  },
  {
   "cell_type": "code",
   "execution_count": 105,
   "id": "6d7c2637-cfae-40d6-9866-bf3c31b63de4",
   "metadata": {},
   "outputs": [],
   "source": [
    "#Cantidad de mujeres que si abandonaron el servisio\n",
    "churn_mujeres = df[(df.iloc[:,1]==0) & (df.iloc[:,17]==1)][[\"Churn\"]].shape[0]"
   ]
  },
  {
   "cell_type": "code",
   "execution_count": 106,
   "id": "da32b1ee-6877-43e8-bb13-e55ae6292f61",
   "metadata": {},
   "outputs": [],
   "source": [
    "#Cantidad de Hombres que si abandonaron el servisio\n",
    "churn_hombres =df[(df.iloc[:,1]==1) & (df.iloc[:,17]==1)][[\"Churn\"]].shape[0]"
   ]
  },
  {
   "cell_type": "code",
   "execution_count": 107,
   "id": "a9704d39-58aa-439e-87cf-6e8c072b4cde",
   "metadata": {},
   "outputs": [
    {
     "data": {
      "image/png": "[encoded data removed]",
      "text/plain": [
       "<Figure size 640x480 with 1 Axes>"
      ]
     },
     "metadata": {},
     "output_type": "display_data"
    }
   ],
   "source": [
    "#Crear un histograma\n",
    "plt.bar(['Hombres', 'Mujeres'], [churn_hombres, churn_mujeres], color=['blue', 'pink'])\n",
    "plt.title('Cantidad de clientes que abandonaron el servicio por género')\n",
    "plt.ylabel('Cantidad')\n",
    "plt.xlabel('Género')\n",
    "plt.tight_layout()\n",
    "plt.show()\n"
   ]
  },
  {
   "cell_type": "markdown",
   "id": "e6fd7899-da9a-43b6-942d-6ab82663e649",
   "metadata": {},
   "source": []
  },
  {
   "cell_type": "code",
   "execution_count": 108,
   "id": "4600a17f-481c-488a-a2c5-21f3f58691cd",
   "metadata": {},
   "outputs": [
    {
     "data": {
      "text/plain": [
       "Index(['customerID', 'gender', 'SeniorCitizen', 'Partner', 'Dependents',\n",
       "       'tenure', 'PhoneService', 'MultipleLines', 'OnlineSecurity',\n",
       "       'OnlineBackup', 'DeviceProtection', 'TechSupport', 'StreamingTV',\n",
       "       'StreamingMovies', 'PaperlessBilling', 'MonthlyCharges', 'TotalCharges',\n",
       "       'Churn', 'Internet_0', 'Internet_DSL', 'Internet_Fiber optic',\n",
       "       'contr_Month-to-month', 'contr_One year', 'contr_Two year',\n",
       "       'MetodoPago_Bank transfer (automatic)',\n",
       "       'MetodoPago_Credit card (automatic)', 'MetodoPago_Electronic check',\n",
       "       'MetodoPago_Mailed check'],\n",
       "      dtype='object')"
      ]
     },
     "execution_count": 108,
     "metadata": {},
     "output_type": "execute_result"
    }
   ],
   "source": [
    "df.columns\n"
   ]
  },
  {
   "cell_type": "code",
   "execution_count": 109,
   "id": "18d299cc-d6de-4b55-98af-172e311cb52e",
   "metadata": {},
   "outputs": [
    {
     "data": {
      "image/png": "[encoded data removed]",
      "text/plain": [
       "<Figure size 800x500 with 1 Axes>"
      ]
     },
     "metadata": {},
     "output_type": "display_data"
    }
   ],
   "source": [
    "import matplotlib.pyplot as plt\n",
    "\n",
    "# Calcular suma total de cargos mensuales por género\n",
    "total_cargos = df.groupby('gender')['MonthlyCharges'].sum()\n",
    "\n",
    "# Mapear los valores para etiquetas legibles\n",
    "total_cargos.index = total_cargos.index.map({0: 'Mujeres', 1: 'Hombres'})\n",
    "\n",
    "# Graficar\n",
    "plt.figure(figsize=(8,5))\n",
    "total_cargos.plot(kind='bar', color=['pink', 'blue'])\n",
    "plt.title('Total de cargos mensuales por género')\n",
    "plt.ylabel('Suma total de cargos ($)')\n",
    "plt.xlabel('Género')\n",
    "plt.xticks(rotation=0)\n",
    "plt.tight_layout()\n",
    "plt.show()\n"
   ]
  },
  {
   "cell_type": "markdown",
   "id": "07ab630c-66ab-420c-b738-1d27145c7a6a",
   "metadata": {},
   "source": [
    "Después de analizar los histogramas anteriores, puedo confirmar que la columna gender está balanceada tanto en la variable de abandono (Churn) como en el resto de las columnas. Por lo tanto, es posible que esta variable no sea un factor relevante para el entrenamiento de los modelos de IA para la identificación de clientes que abandonan el servicio."
   ]
  },
  {
   "cell_type": "code",
   "execution_count": null,
   "id": "77268c51-dc57-48b2-8ec9-1d2233cc3a3a",
   "metadata": {},
   "outputs": [],
   "source": []
  },
  {
   "cell_type": "markdown",
   "id": "3c72d5da-8099-4dbe-818a-27027cc802b0",
   "metadata": {},
   "source": [
    "# 8. Preprocesamiento"
   ]
  },
  {
   "cell_type": "markdown",
   "id": "e11bc4f1-1e61-4833-97c1-602f45926c10",
   "metadata": {},
   "source": [
    "Observamos que aún quedan columnas de tipo object. Sin embargo, estas no contienen valores nulos, ya que previamente eliminamos esos registros. Por lo tanto, podemos asegurar que estas columnas contienen datos de tipo texto. A continuación, analizamos los valores únicos presentes en cada una de ellas"
   ]
  },
  {
   "cell_type": "code",
   "execution_count": 110,
   "id": "a3377b3f-66fc-46aa-b890-0f49aee2e158",
   "metadata": {},
   "outputs": [
    {
     "name": "stdout",
     "output_type": "stream",
     "text": [
      "<class 'pandas.core.frame.DataFrame'>\n",
      "Index: 7032 entries, 0 to 7042\n",
      "Data columns (total 28 columns):\n",
      " #   Column                                Non-Null Count  Dtype  \n",
      "---  ------                                --------------  -----  \n",
      " 0   customerID                            7032 non-null   object \n",
      " 1   gender                                7032 non-null   int64  \n",
      " 2   SeniorCitizen                         7032 non-null   int64  \n",
      " 3   Partner                               7032 non-null   int64  \n",
      " 4   Dependents                            7032 non-null   int64  \n",
      " 5   tenure                                7032 non-null   int64  \n",
      " 6   PhoneService                          7032 non-null   int64  \n",
      " 7   MultipleLines                         7032 non-null   int64  \n",
      " 8   OnlineSecurity                        7032 non-null   object \n",
      " 9   OnlineBackup                          7032 non-null   object \n",
      " 10  DeviceProtection                      7032 non-null   object \n",
      " 11  TechSupport                           7032 non-null   object \n",
      " 12  StreamingTV                           7032 non-null   object \n",
      " 13  StreamingMovies                       7032 non-null   object \n",
      " 14  PaperlessBilling                      7032 non-null   int64  \n",
      " 15  MonthlyCharges                        7032 non-null   float64\n",
      " 16  TotalCharges                          7032 non-null   float64\n",
      " 17  Churn                                 7032 non-null   int64  \n",
      " 18  Internet_0                            7032 non-null   int64  \n",
      " 19  Internet_DSL                          7032 non-null   int64  \n",
      " 20  Internet_Fiber optic                  7032 non-null   int64  \n",
      " 21  contr_Month-to-month                  7032 non-null   int64  \n",
      " 22  contr_One year                        7032 non-null   int64  \n",
      " 23  contr_Two year                        7032 non-null   int64  \n",
      " 24  MetodoPago_Bank transfer (automatic)  7032 non-null   int64  \n",
      " 25  MetodoPago_Credit card (automatic)    7032 non-null   int64  \n",
      " 26  MetodoPago_Electronic check           7032 non-null   int64  \n",
      " 27  MetodoPago_Mailed check               7032 non-null   int64  \n",
      "dtypes: float64(2), int64(19), object(7)\n",
      "memory usage: 1.6+ MB\n"
     ]
    }
   ],
   "source": [
    "df.info()"
   ]
  },
  {
   "cell_type": "markdown",
   "id": "40b432c3-8edf-4f3c-bd5c-487aefc40801",
   "metadata": {},
   "source": [
    "Se aplicó `get_dummies` para transformar las variables categóricas en variables dummy (binarias), evitando la multicolinealidad al eliminar la primera categoría (`drop_first=True`). Esto permite que los modelos de machine learning puedan procesar correctamente estas variables."
   ]
  },
  {
   "cell_type": "code",
   "execution_count": 111,
   "id": "bd3f0ab9-94ba-4251-8c76-8b9bfb196f4a",
   "metadata": {},
   "outputs": [
    {
     "name": "stdout",
     "output_type": "stream",
     "text": [
      "Valores únicos de la columna en índice 9 (OnlineBackup):\n",
      "[1 0 'No internet service']\n",
      "----------------------------------------\n",
      "Valores únicos de la columna en índice 10 (DeviceProtection):\n",
      "[0 1 'No internet service']\n",
      "----------------------------------------\n",
      "Valores únicos de la columna en índice 11 (TechSupport):\n",
      "[0 1 'No internet service']\n",
      "----------------------------------------\n",
      "Valores únicos de la columna en índice 12 (StreamingTV):\n",
      "[0 1 'No internet service']\n",
      "----------------------------------------\n",
      "Valores únicos de la columna en índice 13 (StreamingMovies):\n",
      "[0 1 'No internet service']\n",
      "----------------------------------------\n"
     ]
    }
   ],
   "source": [
    "for i in range(9, 14):\n",
    "    unique_values = df.iloc[:, i].unique()\n",
    "    print(f\"Valores únicos de la columna en índice {i} ({df.columns[i]}):\")\n",
    "    print(unique_values)\n",
    "    print(\"-\" * 40)\n"
   ]
  },
  {
   "cell_type": "markdown",
   "id": "e60a0039-1e99-4fca-be7e-4316445a77ac",
   "metadata": {},
   "source": [
    " 8   OnlineSecurity                        7032 non-null   object \n",
    " 9   OnlineBackup                          7032 non-null   object \n",
    " 10  DeviceProtection                      7032 non-null   object \n",
    " 11  TechSupport                           7032 non-null   object \n",
    " 12  StreamingTV                           7032 non-null   object \n",
    " 13  StreamingMovies                       7032 non-null   object \n"
   ]
  },
  {
   "cell_type": "markdown",
   "id": "4748a815-d27f-4807-9d5d-7f2407873f10",
   "metadata": {},
   "source": [
    "A continuación voy a reemplazar el valor \"No internet service\" por 2 en las columnas OnlineSecurity, OnlineBackup, TechSupport y DeviceProtection. Esto se debe a que estas columnas representan servicios de seguridad y respaldo que no están disponibles para algunos clientes, pero que sí cuentan con internet, por lo que es necesario diferenciarlos claramente."
   ]
  },
  {
   "cell_type": "code",
   "execution_count": 112,
   "id": "3e5171fc-3aa9-4c51-98bf-aa81ee268e6d",
   "metadata": {},
   "outputs": [
    {
     "name": "stdout",
     "output_type": "stream",
     "text": [
      "3497\n",
      "2015\n",
      "1520\n"
     ]
    }
   ],
   "source": [
    "co=df[df.iloc[:,8]==0][\"Churn\"].count()\n",
    "c1=df[df.iloc[:,8]==1][\"Churn\"].count()\n",
    "casd=df[df.iloc[:,8]==\"No internet service\"][\"Churn\"].count()\n",
    "print(co)\n",
    "print(c1)\n",
    "print(casd)"
   ]
  },
  {
   "cell_type": "code",
   "execution_count": 114,
   "id": "2bd97380-d5fc-4768-be1e-ba18d9e7a356",
   "metadata": {},
   "outputs": [
    {
     "name": "stdout",
     "output_type": "stream",
     "text": [
      "<class 'pandas.core.frame.DataFrame'>\n",
      "Index: 7032 entries, 0 to 7042\n",
      "Data columns (total 28 columns):\n",
      " #   Column                                Non-Null Count  Dtype  \n",
      "---  ------                                --------------  -----  \n",
      " 0   customerID                            7032 non-null   object \n",
      " 1   gender                                7032 non-null   int64  \n",
      " 2   SeniorCitizen                         7032 non-null   int64  \n",
      " 3   Partner                               7032 non-null   int64  \n",
      " 4   Dependents                            7032 non-null   int64  \n",
      " 5   tenure                                7032 non-null   int64  \n",
      " 6   PhoneService                          7032 non-null   int64  \n",
      " 7   MultipleLines                         7032 non-null   int64  \n",
      " 8   OnlineSecurity                        7032 non-null   int64  \n",
      " 9   OnlineBackup                          7032 non-null   int64  \n",
      " 10  DeviceProtection                      7032 non-null   int64  \n",
      " 11  TechSupport                           7032 non-null   int64  \n",
      " 12  StreamingTV                           7032 non-null   int64  \n",
      " 13  StreamingMovies                       7032 non-null   int64  \n",
      " 14  PaperlessBilling                      7032 non-null   int64  \n",
      " 15  MonthlyCharges                        7032 non-null   float64\n",
      " 16  TotalCharges                          7032 non-null   float64\n",
      " 17  Churn                                 7032 non-null   int64  \n",
      " 18  Internet_0                            7032 non-null   int64  \n",
      " 19  Internet_DSL                          7032 non-null   int64  \n",
      " 20  Internet_Fiber optic                  7032 non-null   int64  \n",
      " 21  contr_Month-to-month                  7032 non-null   int64  \n",
      " 22  contr_One year                        7032 non-null   int64  \n",
      " 23  contr_Two year                        7032 non-null   int64  \n",
      " 24  MetodoPago_Bank transfer (automatic)  7032 non-null   int64  \n",
      " 25  MetodoPago_Credit card (automatic)    7032 non-null   int64  \n",
      " 26  MetodoPago_Electronic check           7032 non-null   int64  \n",
      " 27  MetodoPago_Mailed check               7032 non-null   int64  \n",
      "dtypes: float64(2), int64(25), object(1)\n",
      "memory usage: 1.6+ MB\n"
     ]
    }
   ],
   "source": [
    "df=df.replace({\"No internet service\":2})\n",
    "df.info()\n",
    "#ahora todas las variebles son numericas"
   ]
  },
  {
   "cell_type": "markdown",
   "id": "61e8bbf0-7116-48b2-8631-7444f8b44415",
   "metadata": {},
   "source": [
    "## Escalado de variables numéricas"
   ]
  },
  {
   "cell_type": "markdown",
   "id": "3ddf543f-a81b-45fe-a2af-c48694d67359",
   "metadata": {},
   "source": [
    "\n",
    "Se seleccionan las columnas numéricas `tenure`, `MonthlyCharges` y `TotalCharges` para normalizarlas usando `StandardScaler`. Esto estandariza los datos para que tengan media cero y desviación estándar uno, mejorando el rendimiento y la convergencia de los modelos de machine learning.\n"
   ]
  },
  {
   "cell_type": "code",
   "execution_count": 115,
   "id": "41700adb-d50d-4271-a037-2b7e8055a493",
   "metadata": {},
   "outputs": [],
   "source": [
    "num_cols = ['tenure', 'MonthlyCharges', 'TotalCharges']\n",
    "scaler = StandardScaler()\n",
    "df[num_cols] = scaler.fit_transform(df[num_cols])"
   ]
  },
  {
   "cell_type": "markdown",
   "id": "a230acb3-9179-4292-9242-db2695974635",
   "metadata": {},
   "source": [
    "## Separar variables y target\n",
    "### Definición de variables predictoras y objetivo\n",
    "\n",
    "Se separan las variables independientes (`X`) eliminando las columnas `customerID` y `Churn`, y la variable dependiente (`y`) que corresponde a la columna `Churn`, nuestro objetivo de predicción.\n"
   ]
  },
  {
   "cell_type": "code",
   "execution_count": 116,
   "id": "c85a7805-1004-4866-bb0a-59aeebe0f8fc",
   "metadata": {},
   "outputs": [],
   "source": [
    "#Original \n",
    "X = df.drop(['customerID', 'Churn'], axis=1)\n",
    "\n",
    "#modificado eliminando bariables sospechosas que tal vez no sirvan para nada\n",
    "#X = df.drop(['customerID', 'Churn', \"MultipleLines\", \"OnlineSecurity\", \"OnlineBackup\", \"DeviceProtection\", \"Internet_DSL\"], axis=1)\n",
    "y = df['Churn']\n"
   ]
  },
  {
   "cell_type": "markdown",
   "id": "cdb26fd6-7aab-404f-9c46-9d0e8b895e1f",
   "metadata": {},
   "source": [
    "# 11. Division de datos entrenamiento y pruebas"
   ]
  },
  {
   "cell_type": "markdown",
   "id": "a0e940e6-1978-4450-891b-e07793457a1b",
   "metadata": {},
   "source": [
    "### División del conjunto de datos en entrenamiento y prueba\n",
    "\n",
    "Se divide el conjunto de datos en dos partes: 80% para entrenamiento y 20% para prueba, utilizando la función `train_test_split`. Esto permitirá evaluar el desempeño del modelo con datos no vistos durante el entrenamiento.\n"
   ]
  },
  {
   "cell_type": "code",
   "execution_count": 117,
   "id": "5c263789-32c9-4644-a147-0a2aee7e525f",
   "metadata": {},
   "outputs": [],
   "source": [
    "X_train, X_test, y_train, y_test = train_test_split(X, y, test_size=0.35)"
   ]
  },
  {
   "cell_type": "markdown",
   "id": "047be0fe-c9ef-404d-8452-6e19444984be",
   "metadata": {},
   "source": [
    "\n",
    "### Función para evaluar modelos\n",
    "\n",
    "Esta función entrena el modelo con los datos de entrenamiento, realiza predicciones sobre el conjunto de prueba y muestra métricas clave de evaluación como la exactitud (accuracy), un reporte detallado de clasificación y la matriz de confusión visualizada mediante un heatmap.\n"
   ]
  },
  {
   "cell_type": "code",
   "execution_count": 130,
   "id": "81b13044-ca3e-44bb-a121-e7961dc44255",
   "metadata": {},
   "outputs": [],
   "source": [
    "#para regresion logistica y arboles\n",
    "def generar_matriz_confusionLog(model, nombre):\n",
    "    # Obtener las clases predichas para X_test\n",
    "    y_pred = model.predict(X_test)\n",
    "    \n",
    "    # Importar métricas y librerías para el gráfico\n",
    "    from sklearn.metrics import classification_report, confusion_matrix\n",
    "    import seaborn as sns\n",
    "    import matplotlib.pyplot as plt\n",
    "    \n",
    "    # Mostrar reporte y matriz de confusión\n",
    "    print(classification_report(y_test, y_pred))\n",
    "    sns.heatmap(confusion_matrix(y_test, y_pred), annot=True, fmt='d', cmap='Blues')\n",
    "    plt.title(nombre)\n",
    "    plt.show()\n"
   ]
  },
  {
   "cell_type": "code",
   "execution_count": 155,
   "id": "9972d1c2-d39b-476a-83f2-cc91bebd8a6d",
   "metadata": {},
   "outputs": [],
   "source": [
    "def generar_matriz_confusionRed(model, nombre):\n",
    "    #probabilidades del modelo\n",
    "    y_prob = model.predict(X_test)\n",
    "\n",
    "    #probabilidades a clases: si prob > 0.5, predice 1\n",
    "    y_pred = (y_prob > 0.5).astype(int)\n",
    "    print(classification_report(y_test, y_pred))\n",
    "    \n",
    "    sns.heatmap(confusion_matrix(y_test, y_pred), annot=True, fmt='d', cmap='Blues')\n",
    "    plt.title(nombre)\n",
    "    plt.xlabel(\"Predicción\")\n",
    "    plt.ylabel(\"Real\")\n",
    "    plt.show()"
   ]
  },
  {
   "cell_type": "markdown",
   "id": "2a4654bb-cf21-41e4-b20c-b74f850cefee",
   "metadata": {},
   "source": [
    "## Modelo de Regresion logistica"
   ]
  },
  {
   "cell_type": "markdown",
   "id": "e0b338e9-31e8-46c8-9293-34bf83e388a8",
   "metadata": {},
   "source": [
    "Se crea y entrena un modelo de regresión logística con un máximo de 500 iteraciones para garantizar la convergencia durante el entrenamiento.\n"
   ]
  },
  {
   "cell_type": "code",
   "execution_count": 126,
   "id": "ce23429e-4d24-46fd-9081-84f8a111a5c5",
   "metadata": {},
   "outputs": [],
   "source": [
    "# Regresión logística\n",
    "from sklearn import linear_model\n",
    "log_pred = linear_model.LogisticRegression(max_iter=1000) "
   ]
  },
  {
   "cell_type": "code",
   "execution_count": 127,
   "id": "90eafc5f-1a30-4eda-82dc-6e695ff62e79",
   "metadata": {},
   "outputs": [
    {
     "data": {
      "text/html": [
       "<style>#sk-container-id-2 {\n",
       "  /* Definition of color scheme common for light and dark mode */\n",
       "  --sklearn-color-text: #000;\n",
       "  --sklearn-color-text-muted: #666;\n",
       "  --sklearn-color-line: gray;\n",
       "  /* Definition of color scheme for unfitted estimators */\n",
       "  --sklearn-color-unfitted-level-0: #fff5e6;\n",
       "  --sklearn-color-unfitted-level-1: #f6e4d2;\n",
       "  --sklearn-color-unfitted-level-2: #ffe0b3;\n",
       "  --sklearn-color-unfitted-level-3: chocolate;\n",
       "  /* Definition of color scheme for fitted estimators */\n",
       "  --sklearn-color-fitted-level-0: #f0f8ff;\n",
       "  --sklearn-color-fitted-level-1: #d4ebff;\n",
       "  --sklearn-color-fitted-level-2: #b3dbfd;\n",
       "  --sklearn-color-fitted-level-3: cornflowerblue;\n",
       "\n",
       "  /* Specific color for light theme */\n",
       "  --sklearn-color-text-on-default-background: var(--sg-text-color, var(--theme-code-foreground, var(--jp-content-font-color1, black)));\n",
       "  --sklearn-color-background: var(--sg-background-color, var(--theme-background, var(--jp-layout-color0, white)));\n",
       "  --sklearn-color-border-box: var(--sg-text-color, var(--theme-code-foreground, var(--jp-content-font-color1, black)));\n",
       "  --sklearn-color-icon: #696969;\n",
       "\n",
       "  @media (prefers-color-scheme: dark) {\n",
       "    /* Redefinition of color scheme for dark theme */\n",
       "    --sklearn-color-text-on-default-background: var(--sg-text-color, var(--theme-code-foreground, var(--jp-content-font-color1, white)));\n",
       "    --sklearn-color-background: var(--sg-background-color, var(--theme-background, var(--jp-layout-color0, #111)));\n",
       "    --sklearn-color-border-box: var(--sg-text-color, var(--theme-code-foreground, var(--jp-content-font-color1, white)));\n",
       "    --sklearn-color-icon: #878787;\n",
       "  }\n",
       "}\n",
       "\n",
       "#sk-container-id-2 {\n",
       "  color: var(--sklearn-color-text);\n",
       "}\n",
       "\n",
       "#sk-container-id-2 pre {\n",
       "  padding: 0;\n",
       "}\n",
       "\n",
       "#sk-container-id-2 input.sk-hidden--visually {\n",
       "  border: 0;\n",
       "  clip: rect(1px 1px 1px 1px);\n",
       "  clip: rect(1px, 1px, 1px, 1px);\n",
       "  height: 1px;\n",
       "  margin: -1px;\n",
       "  overflow: hidden;\n",
       "  padding: 0;\n",
       "  position: absolute;\n",
       "  width: 1px;\n",
       "}\n",
       "\n",
       "#sk-container-id-2 div.sk-dashed-wrapped {\n",
       "  border: 1px dashed var(--sklearn-color-line);\n",
       "  margin: 0 0.4em 0.5em 0.4em;\n",
       "  box-sizing: border-box;\n",
       "  padding-bottom: 0.4em;\n",
       "  background-color: var(--sklearn-color-background);\n",
       "}\n",
       "\n",
       "#sk-container-id-2 div.sk-container {\n",
       "  /* jupyter's `normalize.less` sets `[hidden] { display: none; }`\n",
       "     but bootstrap.min.css set `[hidden] { display: none !important; }`\n",
       "     so we also need the `!important` here to be able to override the\n",
       "     default hidden behavior on the sphinx rendered scikit-learn.org.\n",
       "     See: https://github.com/scikit-learn/scikit-learn/issues/21755 */\n",
       "  display: inline-block !important;\n",
       "  position: relative;\n",
       "}\n",
       "\n",
       "#sk-container-id-2 div.sk-text-repr-fallback {\n",
       "  display: none;\n",
       "}\n",
       "\n",
       "div.sk-parallel-item,\n",
       "div.sk-serial,\n",
       "div.sk-item {\n",
       "  /* draw centered vertical line to link estimators */\n",
       "  background-image: linear-gradient(var(--sklearn-color-text-on-default-background), var(--sklearn-color-text-on-default-background));\n",
       "  background-size: 2px 100%;\n",
       "  background-repeat: no-repeat;\n",
       "  background-position: center center;\n",
       "}\n",
       "\n",
       "/* Parallel-specific style estimator block */\n",
       "\n",
       "#sk-container-id-2 div.sk-parallel-item::after {\n",
       "  content: \"\";\n",
       "  width: 100%;\n",
       "  border-bottom: 2px solid var(--sklearn-color-text-on-default-background);\n",
       "  flex-grow: 1;\n",
       "}\n",
       "\n",
       "#sk-container-id-2 div.sk-parallel {\n",
       "  display: flex;\n",
       "  align-items: stretch;\n",
       "  justify-content: center;\n",
       "  background-color: var(--sklearn-color-background);\n",
       "  position: relative;\n",
       "}\n",
       "\n",
       "#sk-container-id-2 div.sk-parallel-item {\n",
       "  display: flex;\n",
       "  flex-direction: column;\n",
       "}\n",
       "\n",
       "#sk-container-id-2 div.sk-parallel-item:first-child::after {\n",
       "  align-self: flex-end;\n",
       "  width: 50%;\n",
       "}\n",
       "\n",
       "#sk-container-id-2 div.sk-parallel-item:last-child::after {\n",
       "  align-self: flex-start;\n",
       "  width: 50%;\n",
       "}\n",
       "\n",
       "#sk-container-id-2 div.sk-parallel-item:only-child::after {\n",
       "  width: 0;\n",
       "}\n",
       "\n",
       "/* Serial-specific style estimator block */\n",
       "\n",
       "#sk-container-id-2 div.sk-serial {\n",
       "  display: flex;\n",
       "  flex-direction: column;\n",
       "  align-items: center;\n",
       "  background-color: var(--sklearn-color-background);\n",
       "  padding-right: 1em;\n",
       "  padding-left: 1em;\n",
       "}\n",
       "\n",
       "\n",
       "/* Toggleable style: style used for estimator/Pipeline/ColumnTransformer box that is\n",
       "clickable and can be expanded/collapsed.\n",
       "- Pipeline and ColumnTransformer use this feature and define the default style\n",
       "- Estimators will overwrite some part of the style using the `sk-estimator` class\n",
       "*/\n",
       "\n",
       "/* Pipeline and ColumnTransformer style (default) */\n",
       "\n",
       "#sk-container-id-2 div.sk-toggleable {\n",
       "  /* Default theme specific background. It is overwritten whether we have a\n",
       "  specific estimator or a Pipeline/ColumnTransformer */\n",
       "  background-color: var(--sklearn-color-background);\n",
       "}\n",
       "\n",
       "/* Toggleable label */\n",
       "#sk-container-id-2 label.sk-toggleable__label {\n",
       "  cursor: pointer;\n",
       "  display: flex;\n",
       "  width: 100%;\n",
       "  margin-bottom: 0;\n",
       "  padding: 0.5em;\n",
       "  box-sizing: border-box;\n",
       "  text-align: center;\n",
       "  align-items: start;\n",
       "  justify-content: space-between;\n",
       "  gap: 0.5em;\n",
       "}\n",
       "\n",
       "#sk-container-id-2 label.sk-toggleable__label .caption {\n",
       "  font-size: 0.6rem;\n",
       "  font-weight: lighter;\n",
       "  color: var(--sklearn-color-text-muted);\n",
       "}\n",
       "\n",
       "#sk-container-id-2 label.sk-toggleable__label-arrow:before {\n",
       "  /* Arrow on the left of the label */\n",
       "  content: \"▸\";\n",
       "  float: left;\n",
       "  margin-right: 0.25em;\n",
       "  color: var(--sklearn-color-icon);\n",
       "}\n",
       "\n",
       "#sk-container-id-2 label.sk-toggleable__label-arrow:hover:before {\n",
       "  color: var(--sklearn-color-text);\n",
       "}\n",
       "\n",
       "/* Toggleable content - dropdown */\n",
       "\n",
       "#sk-container-id-2 div.sk-toggleable__content {\n",
       "  max-height: 0;\n",
       "  max-width: 0;\n",
       "  overflow: hidden;\n",
       "  text-align: left;\n",
       "  /* unfitted */\n",
       "  background-color: var(--sklearn-color-unfitted-level-0);\n",
       "}\n",
       "\n",
       "#sk-container-id-2 div.sk-toggleable__content.fitted {\n",
       "  /* fitted */\n",
       "  background-color: var(--sklearn-color-fitted-level-0);\n",
       "}\n",
       "\n",
       "#sk-container-id-2 div.sk-toggleable__content pre {\n",
       "  margin: 0.2em;\n",
       "  border-radius: 0.25em;\n",
       "  color: var(--sklearn-color-text);\n",
       "  /* unfitted */\n",
       "  background-color: var(--sklearn-color-unfitted-level-0);\n",
       "}\n",
       "\n",
       "#sk-container-id-2 div.sk-toggleable__content.fitted pre {\n",
       "  /* unfitted */\n",
       "  background-color: var(--sklearn-color-fitted-level-0);\n",
       "}\n",
       "\n",
       "#sk-container-id-2 input.sk-toggleable__control:checked~div.sk-toggleable__content {\n",
       "  /* Expand drop-down */\n",
       "  max-height: 200px;\n",
       "  max-width: 100%;\n",
       "  overflow: auto;\n",
       "}\n",
       "\n",
       "#sk-container-id-2 input.sk-toggleable__control:checked~label.sk-toggleable__label-arrow:before {\n",
       "  content: \"▾\";\n",
       "}\n",
       "\n",
       "/* Pipeline/ColumnTransformer-specific style */\n",
       "\n",
       "#sk-container-id-2 div.sk-label input.sk-toggleable__control:checked~label.sk-toggleable__label {\n",
       "  color: var(--sklearn-color-text);\n",
       "  background-color: var(--sklearn-color-unfitted-level-2);\n",
       "}\n",
       "\n",
       "#sk-container-id-2 div.sk-label.fitted input.sk-toggleable__control:checked~label.sk-toggleable__label {\n",
       "  background-color: var(--sklearn-color-fitted-level-2);\n",
       "}\n",
       "\n",
       "/* Estimator-specific style */\n",
       "\n",
       "/* Colorize estimator box */\n",
       "#sk-container-id-2 div.sk-estimator input.sk-toggleable__control:checked~label.sk-toggleable__label {\n",
       "  /* unfitted */\n",
       "  background-color: var(--sklearn-color-unfitted-level-2);\n",
       "}\n",
       "\n",
       "#sk-container-id-2 div.sk-estimator.fitted input.sk-toggleable__control:checked~label.sk-toggleable__label {\n",
       "  /* fitted */\n",
       "  background-color: var(--sklearn-color-fitted-level-2);\n",
       "}\n",
       "\n",
       "#sk-container-id-2 div.sk-label label.sk-toggleable__label,\n",
       "#sk-container-id-2 div.sk-label label {\n",
       "  /* The background is the default theme color */\n",
       "  color: var(--sklearn-color-text-on-default-background);\n",
       "}\n",
       "\n",
       "/* On hover, darken the color of the background */\n",
       "#sk-container-id-2 div.sk-label:hover label.sk-toggleable__label {\n",
       "  color: var(--sklearn-color-text);\n",
       "  background-color: var(--sklearn-color-unfitted-level-2);\n",
       "}\n",
       "\n",
       "/* Label box, darken color on hover, fitted */\n",
       "#sk-container-id-2 div.sk-label.fitted:hover label.sk-toggleable__label.fitted {\n",
       "  color: var(--sklearn-color-text);\n",
       "  background-color: var(--sklearn-color-fitted-level-2);\n",
       "}\n",
       "\n",
       "/* Estimator label */\n",
       "\n",
       "#sk-container-id-2 div.sk-label label {\n",
       "  font-family: monospace;\n",
       "  font-weight: bold;\n",
       "  display: inline-block;\n",
       "  line-height: 1.2em;\n",
       "}\n",
       "\n",
       "#sk-container-id-2 div.sk-label-container {\n",
       "  text-align: center;\n",
       "}\n",
       "\n",
       "/* Estimator-specific */\n",
       "#sk-container-id-2 div.sk-estimator {\n",
       "  font-family: monospace;\n",
       "  border: 1px dotted var(--sklearn-color-border-box);\n",
       "  border-radius: 0.25em;\n",
       "  box-sizing: border-box;\n",
       "  margin-bottom: 0.5em;\n",
       "  /* unfitted */\n",
       "  background-color: var(--sklearn-color-unfitted-level-0);\n",
       "}\n",
       "\n",
       "#sk-container-id-2 div.sk-estimator.fitted {\n",
       "  /* fitted */\n",
       "  background-color: var(--sklearn-color-fitted-level-0);\n",
       "}\n",
       "\n",
       "/* on hover */\n",
       "#sk-container-id-2 div.sk-estimator:hover {\n",
       "  /* unfitted */\n",
       "  background-color: var(--sklearn-color-unfitted-level-2);\n",
       "}\n",
       "\n",
       "#sk-container-id-2 div.sk-estimator.fitted:hover {\n",
       "  /* fitted */\n",
       "  background-color: var(--sklearn-color-fitted-level-2);\n",
       "}\n",
       "\n",
       "/* Specification for estimator info (e.g. \"i\" and \"?\") */\n",
       "\n",
       "/* Common style for \"i\" and \"?\" */\n",
       "\n",
       ".sk-estimator-doc-link,\n",
       "a:link.sk-estimator-doc-link,\n",
       "a:visited.sk-estimator-doc-link {\n",
       "  float: right;\n",
       "  font-size: smaller;\n",
       "  line-height: 1em;\n",
       "  font-family: monospace;\n",
       "  background-color: var(--sklearn-color-background);\n",
       "  border-radius: 1em;\n",
       "  height: 1em;\n",
       "  width: 1em;\n",
       "  text-decoration: none !important;\n",
       "  margin-left: 0.5em;\n",
       "  text-align: center;\n",
       "  /* unfitted */\n",
       "  border: var(--sklearn-color-unfitted-level-1) 1pt solid;\n",
       "  color: var(--sklearn-color-unfitted-level-1);\n",
       "}\n",
       "\n",
       ".sk-estimator-doc-link.fitted,\n",
       "a:link.sk-estimator-doc-link.fitted,\n",
       "a:visited.sk-estimator-doc-link.fitted {\n",
       "  /* fitted */\n",
       "  border: var(--sklearn-color-fitted-level-1) 1pt solid;\n",
       "  color: var(--sklearn-color-fitted-level-1);\n",
       "}\n",
       "\n",
       "/* On hover */\n",
       "div.sk-estimator:hover .sk-estimator-doc-link:hover,\n",
       ".sk-estimator-doc-link:hover,\n",
       "div.sk-label-container:hover .sk-estimator-doc-link:hover,\n",
       ".sk-estimator-doc-link:hover {\n",
       "  /* unfitted */\n",
       "  background-color: var(--sklearn-color-unfitted-level-3);\n",
       "  color: var(--sklearn-color-background);\n",
       "  text-decoration: none;\n",
       "}\n",
       "\n",
       "div.sk-estimator.fitted:hover .sk-estimator-doc-link.fitted:hover,\n",
       ".sk-estimator-doc-link.fitted:hover,\n",
       "div.sk-label-container:hover .sk-estimator-doc-link.fitted:hover,\n",
       ".sk-estimator-doc-link.fitted:hover {\n",
       "  /* fitted */\n",
       "  background-color: var(--sklearn-color-fitted-level-3);\n",
       "  color: var(--sklearn-color-background);\n",
       "  text-decoration: none;\n",
       "}\n",
       "\n",
       "/* Span, style for the box shown on hovering the info icon */\n",
       ".sk-estimator-doc-link span {\n",
       "  display: none;\n",
       "  z-index: 9999;\n",
       "  position: relative;\n",
       "  font-weight: normal;\n",
       "  right: .2ex;\n",
       "  padding: .5ex;\n",
       "  margin: .5ex;\n",
       "  width: min-content;\n",
       "  min-width: 20ex;\n",
       "  max-width: 50ex;\n",
       "  color: var(--sklearn-color-text);\n",
       "  box-shadow: 2pt 2pt 4pt #999;\n",
       "  /* unfitted */\n",
       "  background: var(--sklearn-color-unfitted-level-0);\n",
       "  border: .5pt solid var(--sklearn-color-unfitted-level-3);\n",
       "}\n",
       "\n",
       ".sk-estimator-doc-link.fitted span {\n",
       "  /* fitted */\n",
       "  background: var(--sklearn-color-fitted-level-0);\n",
       "  border: var(--sklearn-color-fitted-level-3);\n",
       "}\n",
       "\n",
       ".sk-estimator-doc-link:hover span {\n",
       "  display: block;\n",
       "}\n",
       "\n",
       "/* \"?\"-specific style due to the `<a>` HTML tag */\n",
       "\n",
       "#sk-container-id-2 a.estimator_doc_link {\n",
       "  float: right;\n",
       "  font-size: 1rem;\n",
       "  line-height: 1em;\n",
       "  font-family: monospace;\n",
       "  background-color: var(--sklearn-color-background);\n",
       "  border-radius: 1rem;\n",
       "  height: 1rem;\n",
       "  width: 1rem;\n",
       "  text-decoration: none;\n",
       "  /* unfitted */\n",
       "  color: var(--sklearn-color-unfitted-level-1);\n",
       "  border: var(--sklearn-color-unfitted-level-1) 1pt solid;\n",
       "}\n",
       "\n",
       "#sk-container-id-2 a.estimator_doc_link.fitted {\n",
       "  /* fitted */\n",
       "  border: var(--sklearn-color-fitted-level-1) 1pt solid;\n",
       "  color: var(--sklearn-color-fitted-level-1);\n",
       "}\n",
       "\n",
       "/* On hover */\n",
       "#sk-container-id-2 a.estimator_doc_link:hover {\n",
       "  /* unfitted */\n",
       "  background-color: var(--sklearn-color-unfitted-level-3);\n",
       "  color: var(--sklearn-color-background);\n",
       "  text-decoration: none;\n",
       "}\n",
       "\n",
       "#sk-container-id-2 a.estimator_doc_link.fitted:hover {\n",
       "  /* fitted */\n",
       "  background-color: var(--sklearn-color-fitted-level-3);\n",
       "}\n",
       "</style><div id=\"sk-container-id-2\" class=\"sk-top-container\"><div class=\"sk-text-repr-fallback\"><pre>LogisticRegression(max_iter=1000)</pre><b>In a Jupyter environment, please rerun this cell to show the HTML representation or trust the notebook. <br />On GitHub, the HTML representation is unable to render, please try loading this page with nbviewer.org.</b></div><div class=\"sk-container\" hidden><div class=\"sk-item\"><div class=\"sk-estimator fitted sk-toggleable\"><input class=\"sk-toggleable__control sk-hidden--visually\" id=\"sk-estimator-id-2\" type=\"checkbox\" checked><label for=\"sk-estimator-id-2\" class=\"sk-toggleable__label fitted sk-toggleable__label-arrow\"><div><div>LogisticRegression</div></div><div><a class=\"sk-estimator-doc-link fitted\" rel=\"noreferrer\" target=\"_blank\" href=\"https://scikit-learn.org/1.6/modules/generated/sklearn.linear_model.LogisticRegression.html\">?<span>Documentation for LogisticRegression</span></a><span class=\"sk-estimator-doc-link fitted\">i<span>Fitted</span></span></div></label><div class=\"sk-toggleable__content fitted\"><pre>LogisticRegression(max_iter=1000)</pre></div> </div></div></div></div>"
      ],
      "text/plain": [
       "LogisticRegression(max_iter=1000)"
      ]
     },
     "execution_count": 127,
     "metadata": {},
     "output_type": "execute_result"
    }
   ],
   "source": [
    "\n",
    "log_pred.fit(X_train,y_train)"
   ]
  },
  {
   "cell_type": "markdown",
   "id": "af0998a2-baf1-4e2e-be94-a381be3632de",
   "metadata": {},
   "source": [
    "Se generan las predicciones del modelo de regresión logística sobre el conjunto de prueba `X_test`.\n"
   ]
  },
  {
   "cell_type": "code",
   "execution_count": 128,
   "id": "8668180b-323f-4852-98d0-c8451e4c63c8",
   "metadata": {},
   "outputs": [],
   "source": [
    "y_pred = log_pred.predict(X_test)"
   ]
  },
  {
   "cell_type": "markdown",
   "id": "e2fa918d-9994-44bb-b2d1-97e30c24425d",
   "metadata": {},
   "source": [
    "Calculamos y mostramos la precisión (accuracy) del modelo en los datos de prueba, para evaluar qué tan bien clasifica la variable objetivo.\n"
   ]
  },
  {
   "cell_type": "code",
   "execution_count": 122,
   "id": "2b353936-497b-492b-b901-d3524558a71f",
   "metadata": {},
   "outputs": [
    {
     "name": "stdout",
     "output_type": "stream",
     "text": [
      "Accuracy: 0.80\n"
     ]
    }
   ],
   "source": [
    "from sklearn.metrics import accuracy_score\n",
    "\n",
    "accuracy = accuracy_score(y_test, y_pred)\n",
    "print(f\"Accuracy: {accuracy:.2f}\")\n",
    "\n"
   ]
  },
  {
   "cell_type": "code",
   "execution_count": 157,
   "id": "ed0f3ca5-c1b3-4d95-ac14-5d78326690ee",
   "metadata": {},
   "outputs": [
    {
     "name": "stdout",
     "output_type": "stream",
     "text": [
      "              precision    recall  f1-score   support\n",
      "\n",
      "           0       0.85      0.88      0.87      1826\n",
      "           1       0.62      0.57      0.60       636\n",
      "\n",
      "    accuracy                           0.80      2462\n",
      "   macro avg       0.74      0.73      0.73      2462\n",
      "weighted avg       0.79      0.80      0.80      2462\n",
      "\n"
     ]
    },
    {
     "data": {
      "image/png": "[encoded data removed]",
      "text/plain": [
       "<Figure size 640x480 with 2 Axes>"
      ]
     },
     "metadata": {},
     "output_type": "display_data"
    }
   ],
   "source": [
    "n = \"Matriz de confusión - Regresion logistica\"\n",
    "generar_matriz_confusionLog(log_pred, n)"
   ]
  },
  {
   "cell_type": "markdown",
   "id": "dd9c13f9-ec34-4830-9295-f15dce30c63e",
   "metadata": {},
   "source": [
    "El reporte de clasificación muestra un buen desempeño general del modelo con una precisión (accuracy) del 80%. \n",
    "\n",
    "- Para la clase 0 (clientes que no abandonan), el modelo tiene una alta precisión (0.85) y recall (0.89), lo que indica que identifica correctamente a la mayoría de estos clientes.\n",
    "- Para la clase 1 (clientes que abandonan), la precisión (0.63) y el recall (0.56) son menores, lo que refleja una dificultad mayor para detectar correctamente a los clientes que sí abandonan.\n",
    "- Las métricas macro promedio (promedio simple de ambas clases) indican que el modelo es más efectivo para la clase mayoritaria.\n",
    "  \n",
    "Esto sugiere que, aunque el modelo predice bien a los clientes que permanecen, puede requerir mejoras para aumentar la detección de clientes que abandonan.\n"
   ]
  },
  {
   "cell_type": "markdown",
   "id": "94e649da-3e8c-4f06-b434-99390a957b40",
   "metadata": {},
   "source": [
    "## Modelo de Arboles de desicio Random forest"
   ]
  },
  {
   "cell_type": "markdown",
   "id": "74780a22-2f17-4a5b-b6f3-d1347af5a923",
   "metadata": {},
   "source": [
    "El segundo modelo, un Random Forest, presenta una ligera mejora en la precisión general con un accuracy del 81%.\n",
    "\n",
    "- Para la clase 0 (clientes que no abandonan), la precisión es alta (0.84) y el recall incluso mejor (0.91), lo que indica que el modelo es muy efectivo identificando correctamente a estos clientes.\n",
    "- Para la clase 1 (clientes que sí abandonan), la precisión mejora respecto al modelo anterior (0.67), aunque el recall sigue siendo bajo (0.52), mostrando que aún hay dificultad para detectar todos los casos de abandono.\n",
    "- Las métricas macro promedio reflejan un desempeño balanceado similar al modelo anterior, pero con una ligera mejora en la precisión para la clase positiva.\n",
    "\n",
    "En resumen, el Random Forest mejora la identificación de clientes que abandonan, pero aún puede optimizarse para capturar mejor esta clase.\n"
   ]
  },
  {
   "cell_type": "code",
   "execution_count": 136,
   "id": "137b47a9-494b-4d18-af2a-dca490ee66a1",
   "metadata": {},
   "outputs": [],
   "source": [
    "from sklearn.ensemble import RandomForestClassifier\n",
    "from sklearn.metrics import classification_report\n",
    "\n",
    "# Crear el modelo\n",
    "rf_model = RandomForestClassifier(n_estimators=1000, random_state=42)\n",
    "\n",
    "# Entrenar\n",
    "rf_model.fit(X_train, y_train)\n",
    "\n",
    "# Predecir\n",
    "y_pred_rf = rf_model.predict(X_test)"
   ]
  },
  {
   "cell_type": "code",
   "execution_count": 137,
   "id": "15ac1564-20b2-4d61-b45b-100ba4bfda4c",
   "metadata": {},
   "outputs": [
    {
     "name": "stdout",
     "output_type": "stream",
     "text": [
      "              precision    recall  f1-score   support\n",
      "\n",
      "           0       0.84      0.89      0.86      1826\n",
      "           1       0.61      0.50      0.55       636\n",
      "\n",
      "    accuracy                           0.79      2462\n",
      "   macro avg       0.73      0.70      0.71      2462\n",
      "weighted avg       0.78      0.79      0.78      2462\n",
      "\n"
     ]
    },
    {
     "data": {
      "image/png": "[encoded data removed]",
      "text/plain": [
       "<Figure size 640x480 with 2 Axes>"
      ]
     },
     "metadata": {},
     "output_type": "display_data"
    }
   ],
   "source": [
    "n = \"Matriz de confusión - Random forest\"\n",
    "generar_matriz_confusionLog(rf_model, n)"
   ]
  },
  {
   "cell_type": "markdown",
   "id": "02962246-6906-4359-b365-124ee083580b",
   "metadata": {},
   "source": [
    "## Red Neuronal "
   ]
  },
  {
   "cell_type": "code",
   "execution_count": 153,
   "id": "65c1e622-085f-483b-beeb-39d3418c82dd",
   "metadata": {},
   "outputs": [
    {
     "name": "stderr",
     "output_type": "stream",
     "text": [
      "D:\\Ciencia de Datas\\evnIA\\lib\\site-packages\\keras\\src\\layers\\core\\dense.py:93: UserWarning: Do not pass an `input_shape`/`input_dim` argument to a layer. When using Sequential models, prefer using an `Input(shape)` object as the first layer in the model instead.\n",
      "  super().__init__(activity_regularizer=activity_regularizer, **kwargs)\n",
      "D:\\Ciencia de Datas\\evnIA\\lib\\site-packages\\keras\\src\\layers\\activations\\leaky_relu.py:41: UserWarning: Argument `alpha` is deprecated. Use `negative_slope` instead.\n",
      "  warnings.warn(\n"
     ]
    },
    {
     "name": "stdout",
     "output_type": "stream",
     "text": [
      "\n",
      "Epoch 27: ReduceLROnPlateau reducing learning rate to 0.0005000000237487257.\n",
      "\n",
      "Epoch 34: ReduceLROnPlateau reducing learning rate to 0.0002500000118743628.\n",
      "\u001b[1m77/77\u001b[0m \u001b[32m━━━━━━━━━━━━━━━━━━━━\u001b[0m\u001b[37m\u001b[0m \u001b[1m0s\u001b[0m 2ms/step - accuracy: 0.7221 - auc: 0.8329 - loss: 0.5281\n",
      "Test Loss: 0.5147, Accuracy: 0.7335, AUC: 0.8361\n"
     ]
    }
   ],
   "source": [
    "import tensorflow as tf\n",
    "from tensorflow.keras.models import Sequential\n",
    "from tensorflow.keras.layers import Dense, Dropout, BatchNormalization, LeakyReLU\n",
    "from tensorflow.keras.callbacks import EarlyStopping, ReduceLROnPlateau\n",
    "from sklearn.model_selection import train_test_split\n",
    "from sklearn.utils.class_weight import compute_class_weight\n",
    "\n",
    "\n",
    "#Calcular class weights si hay desbalance\n",
    "classes = np.unique(y_train)\n",
    "class_weights = compute_class_weight('balanced', classes=classes, y=y_train)\n",
    "class_weight_dict = dict(zip(classes, class_weights))\n",
    "\n",
    "#aqui se crea el modelo\n",
    "model = Sequential()\n",
    "model.add(Dense(64, input_shape=(X_train.shape[1],)))\n",
    "model.add(BatchNormalization())\n",
    "model.add(LeakyReLU(alpha=0.1))\n",
    "model.add(Dropout(0.5))\n",
    "\n",
    "model.add(Dense(128))\n",
    "model.add(BatchNormalization())\n",
    "model.add(LeakyReLU(alpha=0.1))\n",
    "model.add(Dropout(0.4))\n",
    "\n",
    "model.add(Dense(64))\n",
    "model.add(BatchNormalization())\n",
    "model.add(LeakyReLU(alpha=0.1))\n",
    "model.add(Dropout(0.4))\n",
    "\n",
    "model.add(Dense(32))\n",
    "model.add(BatchNormalization())\n",
    "model.add(LeakyReLU(alpha=0.1))\n",
    "model.add(Dropout(0.1))\n",
    "\n",
    "model.add(Dense(1, activation='sigmoid'))\n",
    "\n",
    "model.compile(optimizer='adam',\n",
    "              loss='binary_crossentropy',\n",
    "              metrics=['accuracy', tf.keras.metrics.AUC(name='auc')])\n",
    "\n",
    "#Callbacks para detener el entrenamiento en cuento se deje de aprender \n",
    "#en este caso se evaluara la funsio de perdida con monitor='val_loss'\n",
    "#cuando se genere 10 coincidencias entonces se detendra el entrenamiento\n",
    "early_stop = EarlyStopping(monitor='val_accuracy', patience=20, restore_best_weights=True)\n",
    "reduce_lr = ReduceLROnPlateau(monitor='val_accuracy', factor=0.5, patience=7, verbose=1)\n",
    "\n",
    "history = model.fit(X_train, y_train,\n",
    "                    epochs=100,\n",
    "                    batch_size=24,\n",
    "                    validation_split=0.2,\n",
    "                    class_weight=class_weight_dict,\n",
    "                    callbacks=[early_stop, reduce_lr], verbose=0)\n",
    "\n",
    "# Evaluar\n",
    "loss, accuracy, auc = model.evaluate(X_test, y_test)\n",
    "print(f'Test Loss: {loss:.4f}, Accuracy: {accuracy:.4f}, AUC: {auc:.4f}')\n"
   ]
  },
  {
   "cell_type": "code",
   "execution_count": 159,
   "id": "d399aa66-5240-4947-87a9-ff914a605321",
   "metadata": {},
   "outputs": [
    {
     "name": "stdout",
     "output_type": "stream",
     "text": [
      "\u001b[1m77/77\u001b[0m \u001b[32m━━━━━━━━━━━━━━━━━━━━\u001b[0m\u001b[37m\u001b[0m \u001b[1m0s\u001b[0m 2ms/step\n",
      "              precision    recall  f1-score   support\n",
      "\n",
      "           0       0.92      0.70      0.80      1826\n",
      "           1       0.49      0.82      0.61       636\n",
      "\n",
      "    accuracy                           0.73      2462\n",
      "   macro avg       0.70      0.76      0.71      2462\n",
      "weighted avg       0.81      0.73      0.75      2462\n",
      "\n"
     ]
    },
    {
     "data": {
      "image/png": "[encoded data removed]",
      "text/plain": [
       "<Figure size 640x480 with 2 Axes>"
      ]
     },
     "metadata": {},
     "output_type": "display_data"
    }
   ],
   "source": [
    "titulo = 'Matriz de Confusión - Red Neuronal'\n",
    "generar_matriz_confusionRed(model, titulo)"
   ]
  },
  {
   "cell_type": "markdown",
   "id": "da82bb4a-3a0d-4c81-af1f-45ef1e3cfc7a",
   "metadata": {},
   "source": [
    "## Comparación de Modelos: Regresión Logística vs Random Forest vs Red Neuronal"
   ]
  },
  {
   "cell_type": "markdown",
   "id": "e701d899-d80c-4f53-9ef2-133b5dbcd567",
   "metadata": {},
   "source": [
    "| Modelo              | Accuracy | F1-score Clase 1 (Abandono) | Recall Clase 1 | Comentario Principal |\n",
    "|---------------------|----------|------------------------------|----------------|------------------------|\n",
    "| **Regresión Logística** | 0.80     | 0.60                         | 0.57           | Buen balance general. Buen rendimiento en ambas clases. |\n",
    "| **Random Forest**        | 0.79     | 0.55                         | 0.50           | Alta precisión en clase 0, pero bajo recall en abandono. |\n",
    "| **Red Neuronal**         | 0.73     | 0.61                         | 0.82           | Mayor capacidad de detectar abandonos, aunque menos precisa. |"
   ]
  },
  {
   "cell_type": "markdown",
   "id": "4f6b014d-06fe-4514-a565-d858757cacdb",
   "metadata": {},
   "source": [
    "## Conclusión\n",
    "\n",
    "- **Regresión Logística** ofrece el mejor equilibrio entre precisión y recall. Es ideal si buscamos un rendimiento uniforme en ambas clases.\n",
    "- **Random Forest** tiene una buena precisión global, pero no es efectivo detectando abandonos, lo que puede ser un problema si ese es nuestro foco.\n",
    "- **Red Neuronal** destaca por su recall alto en la clase 1 (abandono), lo cual es útil si el objetivo es minimizar falsos negativos (no detectar abandonos), aunque comete más falsos positivos.\n",
    "\n",
    "---\n",
    "\n",
    "### Recomendación\n",
    "\n",
    "- Si el objetivo es predecir con alta sensibilidad los abandonos, la Red Neuronal es la mejor opción.\n",
    "- En caso de buscar un modelo más balanceado, elige la Regresión Logística.\n",
    "- Random Forest no aporta mejoras significativas frente a los otros dos modelos en este caso."
   ]
  },
  {
   "cell_type": "code",
   "execution_count": null,
   "id": "1d9055cf-2834-4081-af05-0c7a6a368d77",
   "metadata": {},
   "outputs": [],
   "source": []
  }
 ],
 "metadata": {
  "kernelspec": {
   "display_name": "Python 3 (ipykernel)",
   "language": "python",
   "name": "python3"
  },
  "language_info": {
   "codemirror_mode": {
    "name": "ipython",
    "version": 3
   },
   "file_extension": ".py",
   "mimetype": "text/x-python",
   "name": "python",
   "nbconvert_exporter": "python",
   "pygments_lexer": "ipython3",
   "version": "3.10.11"
  }
 },
 "nbformat": 4,
 "nbformat_minor": 5
}
